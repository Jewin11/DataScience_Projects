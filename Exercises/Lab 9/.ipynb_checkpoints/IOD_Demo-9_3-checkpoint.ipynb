{
 "cells": [
  {
   "cell_type": "markdown",
   "metadata": {
    "colab_type": "text",
    "id": "g5Py-h5uKz_h"
   },
   "source": [
    "<div>\n",
    "<img src=https://www.institutedata.com/wp-content/uploads/2019/10/iod_h_tp_primary_c.svg width=\"300\">\n",
    "</div>\n",
    "\n"
   ]
  },
  {
   "cell_type": "markdown",
   "metadata": {
    "colab_type": "text",
    "id": "1tNoh0nfKz_l"
   },
   "source": [
    "# Demo 9.3: Web Scraping\n",
    "\n",
    "INSTRUCTIONS:\n",
    "\n",
    "- Run the cells\n",
    "- Observe and understand the results\n",
    "- Answer the questions"
   ]
  },
  {
   "cell_type": "markdown",
   "metadata": {
    "colab_type": "text",
    "id": "WMdVz2YLKz_p"
   },
   "source": [
    "# Web Scraping in Python (using BeautifulSoup)"
   ]
  },
  {
   "cell_type": "markdown",
   "metadata": {
    "colab_type": "text",
    "id": "cczGo5RcKz_s"
   },
   "source": [
    "# Basics HTML\n",
    "Before starting with the code, let’s understand the basics of HTML and some rules of scraping.\n",
    "\n",
    "## HTML tags\n",
    "Below is the source code for a simple HTML webpage.\n",
    "\n",
    "    <!DOCTYPE html>  \n",
    "    <html>  \n",
    "        <head>\n",
    "        </head>\n",
    "        <body>\n",
    "            <h1> First Scraping </h1>\n",
    "            <p> Hello World </p>\n",
    "        <body>\n",
    "    </html>\n",
    "    \n",
    "This is the basic syntax of an HTML webpage. Every `<tag>` serves a block inside the webpage:\n",
    "1. `<!DOCTYPE html>` HTML documents must start with a type declaration.\n",
    "2. The HTML document is contained between `<html>` and `</html>`.\n",
    "3. The meta and script declaration of the HTML document is between `<head>` and `</head>`.\n",
    "4. The visible part of the HTML document is between `<body>` and `</body>` tags.\n",
    "5. Title headings are defined with the `<h1>` through `<h6>` tags.\n",
    "6. Paragraphs are defined with the `<p>` tag.\n",
    "\n",
    "Other useful tags include `<a>` for hyperlinks, `<table>` for tables, `<tr>` for table rows, and `<td>` for table columns.\n",
    "\n",
    "Also, HTML tags sometimes come with `id` or `class` attributes. The `id` attribute specifies a unique id for an HTML tag and the value must be unique within the HTML document. The `class` attribute is used to define equal styles for HTML tags with the same class. We can make use of these ids and classes to help us locate the data we want.\n",
    "\n",
    "## Scraping Rules\n",
    "1. **Always** check a website’s **Terms and Conditions** before you scrape it. Be careful to read the statements about legal use of data. Usually, the retrieved data should not be used for commercial purposes.\n",
    "2. **Do not** request data from the website too aggressively with a program (also known as spamming), as this may break the website. Make sure the program behaves in a reasonable manner (i.e. acts like a human). One request for one webpage per second is good practice.\n",
    "3. The layout of a website may change from time to time, so make sure to revisit the site and rewrite the code as needed"
   ]
  },
  {
   "cell_type": "markdown",
   "metadata": {
    "colab_type": "text",
    "id": "TfxsS1dnKz_v"
   },
   "source": [
    "## Inspecting the Page\n",
    "Let’s take one page from the **Memory Alpha** website as an example.\n",
    "\n",
    "To investigate some relationships let's get the links from this page."
   ]
  },
  {
   "cell_type": "markdown",
   "metadata": {
    "colab_type": "text",
    "id": "R7yt4vvvKz_y"
   },
   "source": [
    "Open the web page on [Prinadora](http://memory-alpha.wikia.com/wiki/Prinadora) with the browser and inspect it.\n",
    "\n",
    "Hover the cursor on the text and follow the shaded box surrounding the main text.\n",
    "\n",
    "From the result, check the main text inside a few levels of HTML tags, which is `<section id=\"WikiaPage\" ...>` → `<div class=\"WikiaPageContentWrapper\">` → `<article id=\"WikiaMainContent\" class=\"WikiaMainContent\">`.\n",
    "\n",
    "It is now known the unique location of the data."
   ]
  },
  {
   "cell_type": "code",
   "execution_count": 2,
   "metadata": {},
   "outputs": [
    {
     "name": "stdout",
     "output_type": "stream",
     "text": [
      "Collecting regex\n",
      "  Downloading https://files.pythonhosted.org/packages/87/61/a3d8311dccec246605983a39b074eb175338f21cba774db0163e5ad0a139/regex-2020.1.8-cp37-cp37m-win_amd64.whl (271kB)\n",
      "Installing collected packages: regex\n",
      "Successfully installed regex-2020.1.8\n"
     ]
    }
   ],
   "source": [
    "#!pip install regex"
   ]
  },
  {
   "cell_type": "markdown",
   "metadata": {
    "colab_type": "text",
    "id": "4njfjuJcKz_2"
   },
   "source": [
    "![image.png](attachment:image.png)"
   ]
  },
  {
   "cell_type": "code",
   "execution_count": 3,
   "metadata": {
    "colab": {},
    "colab_type": "code",
    "id": "GHnB_5JLKz_5"
   },
   "outputs": [],
   "source": [
    "## Import Libraries\n",
    "import regex as re\n",
    "\n",
    "from urllib.parse import unquote\n",
    "import urllib3\n",
    "from bs4 import BeautifulSoup\n",
    "\n",
    "import warnings\n",
    "warnings.filterwarnings('ignore')"
   ]
  },
  {
   "cell_type": "markdown",
   "metadata": {
    "colab_type": "text",
    "id": "kLPwo1PTK0AB"
   },
   "source": [
    "### Define the content to retrieve (webpage's URL)"
   ]
  },
  {
   "cell_type": "code",
   "execution_count": 4,
   "metadata": {
    "colab": {},
    "colab_type": "code",
    "id": "PiR0AEi0K0AC"
   },
   "outputs": [],
   "source": [
    "# specify the url\n",
    "quote_page = 'http://memory-alpha.wikia.com/wiki/Prinadora'"
   ]
  },
  {
   "cell_type": "markdown",
   "metadata": {
    "colab_type": "text",
    "id": "O6Pdi7U6K0AF"
   },
   "source": [
    "### Retrieve the page\n",
    "- Require Internet connection"
   ]
  },
  {
   "cell_type": "code",
   "execution_count": 5,
   "metadata": {
    "colab": {},
    "colab_type": "code",
    "id": "PO1S9OLOK0AG"
   },
   "outputs": [
    {
     "name": "stdout",
     "output_type": "stream",
     "text": [
      "Type of the variable 'page': bytes\n",
      "Page Retrieved. Request Status: 200, Page Size: 237505\n"
     ]
    }
   ],
   "source": [
    "# query the website and return the html to the variable ‘page’\n",
    "http = urllib3.PoolManager()\n",
    "r = http.request('GET', quote_page)\n",
    "if r.status == 200:\n",
    "    page = r.data\n",
    "    print('Type of the variable \\'page\\':', page.__class__.__name__)\n",
    "    print('Page Retrieved. Request Status: %d, Page Size: %d' % (r.status, len(page)))\n",
    "else:\n",
    "    print('Some problem occurred. Request Status: %s' % r.status)"
   ]
  },
  {
   "cell_type": "markdown",
   "metadata": {
    "colab_type": "text",
    "id": "XaVlRuBAK0AI"
   },
   "source": [
    "### Convert the stream of bytes into a BeautifulSoup representation"
   ]
  },
  {
   "cell_type": "code",
   "execution_count": 6,
   "metadata": {
    "colab": {},
    "colab_type": "code",
    "id": "dxwddKYZK0AJ"
   },
   "outputs": [
    {
     "name": "stdout",
     "output_type": "stream",
     "text": [
      "Type of the variable 'soup': BeautifulSoup\n"
     ]
    }
   ],
   "source": [
    "# parse the html using beautiful soup and store in variable `soup`\n",
    "soup = BeautifulSoup(page, 'html.parser')\n",
    "print('Type of the variable \\'soup\\':', soup.__class__.__name__)"
   ]
  },
  {
   "cell_type": "markdown",
   "metadata": {
    "colab_type": "text",
    "id": "pVw8D21eK0AM"
   },
   "source": [
    "### Check the content\n",
    "- The HTML source\n",
    "- Includes all tags and scripts\n",
    "- Can be long!"
   ]
  },
  {
   "cell_type": "code",
   "execution_count": 14,
   "metadata": {
    "colab": {},
    "colab_type": "code",
    "id": "x5oIwB2tK0AM"
   },
   "outputs": [
    {
     "name": "stdout",
     "output_type": "stream",
     "text": [
      "<!DOCTYPE doctype html>\n",
      "<html class=\"\" dir=\"ltr\" lang=\"en\">\n",
      " <head>\n",
      "  <meta content=\"text/html; charset=utf-8\" http-equiv=\"Content-Type\"/>\n",
      "  <meta content=\"width=device-width, user-scalable=yes\" name=\"viewport\"/>\n",
      "  <meta content=\"MediaWiki 1.19.24\" name=\"generator\">\n",
      "   <meta content=\"Memory Alpha,enmemoryalpha,Prinadora,Ferengi,2373,Divorce,Prinadora's richer man 001,Rom,Son,Nog,Female,Mother,Marriage\" name=\"keywords\">\n",
      "    <meta content=\"Prinadora was a Ferengi female, the first – and former – wife of Rom and mother of Nog. Rom's first marriage began when he signed a standard five-year marriage contract with Prinadora's father to produce a child. He then made the mistake of falling in love with his wife. As a result, he signed...\" name=\"description\"/>\n",
      "    <meta content=\"summary\" name=\"twitter:card\"/>\n",
      "    <meta content=\"@getfandom\" name=\"twitter:site\"/>\n",
      "    <meta content=\"https://memory-alpha.fandom.com/wiki/Prinadora\" name=\"twitter:url\"/>\n",
      "    <meta content=\"Prinadora | Memory Alpha | Fandom\" name=\"twitter:title\"/>\n",
      "    <meta content=\"Prinadora was a Ferengi female, the first – and former – wife of Rom and mother of Nog. Rom's first marriage began when he signed a standard five-year marriage contract with Prinadora's father to...\" name=\"twitter:description\"/>\n",
      "    <link href=\"https://memory-alpha.fandom.com/wiki/Prinadora\" rel=\"canonical\"/>\n",
      "    <link href=\"/wiki/Prinadora?action=edit\" rel=\"alternate\" title=\"Edit\" type=\"application/x-wiki\"/>\n",
      "    <link href=\"/wiki/Prinadora?action=edit\" rel=\"edit\" title=\"Edit\"/>\n",
      "    <link href=\"https://vignette.wikia.nocookie.net/memoryalpha/images/b/bc/Wiki.png/revision/latest?cb=20150116203120&amp;path-prefix=en\" rel=\"apple-touch-icon\" sizes=\"135x95\"/>\n",
      "    <link href=\"https://vignette.wikia.nocookie.net/memoryalpha/images/6/64/Favicon.ico/revision/latest?cb=20080612103849&amp;path-prefix=en\" rel=\"shortcut icon\"/>\n",
      "    <link href=\"/opensearch_desc.php\" rel=\"search\" title=\"Memory Alpha (en)\" type=\"application/opensearchdescription+xml\"/>\n",
      "    <link href=\"https://memory-alpha.fandom.com/api.php?action=rsd\" rel=\"EditURI\" type=\"application/rsd+xml\"/>\n",
      "    <link href=\"/wiki/Memory_Alpha:Copyrights\" rel=\"copyright\"/>\n",
      "    <link href=\"/wiki/Special:RecentChanges?feed=atom\" rel=\"alternate\" title=\"Memory Alpha Atom feed\" type=\"application/atom+xml\"/>\n",
      "    <title>\n",
      "     Prinadora | Memory Alpha | Fandom\n",
      "    </title>\n",
      "    <!-- CSS injected by skin and extensions -->\n",
      "    <link href=\"https://slot1-images.wikia.nocookie.net/__am/1581723413538/sasses/background-dynamic%3Dfalse%26background-image%3D%252Fskins%252Foasis%252Fimages%252Fthemes%252Fcarbon.png%26background-image-height%3D600%26background-image-width%3D1600%26color-body%3D%25231a1a1a%26color-body-middle%3D%2523bacdd8%26color-buttons%3D%2523161616%26color-community-header%3D%2523660000%26color-header%3D%2523660000%26color-links%3D%252366bbff%26color-page%3D%25232e2e33%26oasisTypography%3D1%26page-opacity%3D70%26widthType%3D0/skins/oasis/css/oasis.scss,extensions/wikia/DesignSystem/styles/design-system.scss,extensions/wikia/CommunityHeader/styles/index.scss,extensions/wikia/PageHeader/styles/index.scss,extensions/wikia/Recirculation/styles/recirculation.scss,extensions/wikia/EmbeddableDiscussions/styles/EmbeddableDiscussions.scss,extensions/wikia/PortableInfobox/styles/PortableInfobox.scss,extensions/wikia/AdEngine3/dist/styles.scss,extensions/wikia/Qualaroo/css/Qualaroo.scss\" rel=\"stylesheet\"/>\n",
      "    <link href=\"/load.php?cb=1581723413538&amp;debug=false&amp;lang=en&amp;modules=site&amp;only=styles&amp;skin=oasis&amp;*\" rel=\"stylesheet\"/>\n",
      "    <style>\n",
      "     a:lang(ar),a:lang(ckb),a:lang(fa),a:lang(kk-arab),a:lang(mzn),a:lang(ps),a:lang(ur){text-decoration:none}a.new,#quickbar a.new{color:#ba0000}\n",
      "\n",
      "/* cache key: enmemoryalpha:resourceloader:filter:minify-css:7:c88e2bcd56513749bec09a7e29cb3ffa */\n",
      "    </style>\n",
      "    <script>\n",
      "     var Wikia={},\n",
      "wgUseSiteJs=true,\n",
      "wgWikiVertical=\"tv\",\n",
      "wgWikiCategories=[],\n",
      "wgMessages={\"categoryselect-button-save\":\"Save\",\"categoryselect-category-add\":\"Add category...\",\"categoryselect-category-edit\":\"Edit category\",\"categoryselect-category-remove\":\"Remove category\",\"categoryselect-error-category-name-length\":\"The maximum length for a category name has been reached.\",\"categoryselect-error-duplicate-category-name\":\"Category \\\"$1\\\" already exists.\",\"categoryselect-error-empty-category-name\":\"Please provide a category name.\",\"categoryselect-modal-category-name\":\"Provide the name of the category:\",\"categoryselect-modal-category-sortkey\":\"Optionally, you may alphabetize this page on the \\\"$1\\\" category page under the name:\",\"categoryselect-tooltip-add\":\"Press the Enter or Return key when done.\"},\n",
      "wgOnSiteNotificationsApiUrl=\"https://services.fandom.com/on-site-notifications\",\n",
      "JSSnippetsStack=[],\n",
      "ads={\"context\":{\"bidders\":[],\"opts\":{\"adsInContent\":1,\"enableCheshireCat\":true,\"pageType\":\"all_ads\",\"showAds\":true},\"targeting\":{\"enablePageCategories\":true,\"esrbRating\":\"teen\",\"mappedVerticalName\":\"ent\",\"pageArticleId\":8581,\"pageIsArticle\":true,\"pageName\":\"Prinadora\",\"pageType\":\"article\",\"wikiCategory\":\"ent\",\"wikiCustomKeyValues\":\"age=13-17;age=18-34;esrb=teen;gnre=mmo;gnre=scifi;media=movies;media=tv;media=books;pub=atari;sex=m;tv=cbs;tv=hulu\",\"wikiDbName\":\"enmemoryalpha\",\"wikiId\":\"113\",\"wikiIsTop1000\":true,\"wikiLanguage\":\"en\",\"wikiVertical\":\"tv\",\"newWikiCategories\":[\"ent\"],\"hasPortableInfobox\":true}},\"runtime\":{\"disableBtf\":false}},\n",
      "adslots2=[],\n",
      "wgGaHasAds=true,\n",
      "wgAfterContentAndJS=[],\n",
      "wgCdnRootUrl=\"https://slot1-images.wikia.nocookie.net\",\n",
      "wgCdnApiUrl=\"https://api.wikia.nocookie.net/__cb1581723413538\",\n",
      "Mercury=null,\n",
      "wgDBname=\"enmemoryalpha\",\n",
      "wgCityId=\"113\",\n",
      "wgContentLanguage=\"en\",\n",
      "wgUserName=null,\n",
      "wgArticleId=8581,\n",
      "wgCategories=[\"Ferengi\"],\n",
      "wgPageName=\"Prinadora\",\n",
      "wikiaPageType=\"article\",\n",
      "wikiaPageIsCorporate=false,\n",
      "wgArticleType=\"\",\n",
      "wgNamespaceNumber=0,\n",
      "skin=\"oasis\",\n",
      "_gaq=[],\n",
      "wgIsGASpecialWiki=true,\n",
      "wgStyleVersion=\"1581723413538\",\n",
      "wgTransactionContext={\"type\":\"page/main/view/oasis/no_parser/average\",\"env\":\"prod\",\"php_version\":\"7.3.11\",\"wiki\":\"enmemoryalpha\",\"entry_point\":\"page\",\"namespace\":0,\"logged_in\":false,\"action\":\"view\",\"skin\":\"oasis\",\"parser_cache_used\":true,\"size_category\":\"average\"},\n",
      "wgDiscussionsApiUrl=\"https://services.fandom.com/discussion\",\n",
      "wgCookieDomain=\".fandom.com\",\n",
      "wgCookiePath=\"/\",\n",
      "wgAffiliateEnabled=true;\n",
      "    </script>\n",
      "    <script>\n",
      "     window.mw||(mw={fk:1,loader:{state:function(s){preMwLdrStA=window.preMwLdrStA||[];preMwLdrStA.push(s)}}});\n",
      "    </script>\n",
      "    <script>\n",
      "     var wgNow = new Date();\n",
      "    </script>\n",
      "    <script>\n",
      "     Wikia.InstantGlobals={\"wgAdDriverAbTestIdTargeting\":80,\"wgAdDriverAdditionalVastSizeCountries\":[\"CH\"],\"wgAdDriverAppNexusDfpCountries\":[\"XX\"],\"wgAdDriverA9OptOutCountries\":[\"PL\",\"XX-EU\"],\"wgAdDriverBottomLeaderBoardLazyPrebidCountries\":[\"XX\\/50\"],\"wgAdDriverBottomLeaderBoardAdditionalSizesCountries\":[\"XX\"],\"wgAdDriverConfiantMobileCountries\":[\"UK\",\"US\"],\"wgAdDriverDelayTimeout\":2000,\"wgAdDriverHighImpactSlotCountries\":[\"XX\"],\"wgAdDriverHighImpact2SlotCountries\":[\"XX\"],\"wgAdDriverMobileFloorAdhesionCountries\":[\"US\\/90\",\"AS\",\"CK\",\"FJ\",\"PF\",\"GU\",\"KI\",\"MH\",\"FM\",\"NR\",\"NC\",\"NZ\",\"NU\",\"NF\",\"MP\",\"PW\",\"PG\",\"PN\",\"WS\",\"SB\",\"TK\",\"TO\",\"TV\",\"UM\",\"VU\",\"WF\",\"SA\",\"AF\",\"AS\",\"AN\",\"AX\",\"AL\",\"AD\",\"AT\",\"BY\",\"BE\",\"BA\",\"BG\",\"HR\",\"CZ\",\"DK\",\"EE\",\"FO\",\"FI\",\"FR\",\"DE\",\"GI\",\"GR\",\"GG\",\"VA\",\"HU\",\"IS\",\"IE\",\"IM\",\"IT\",\"JE\",\"LV\",\"LI\",\"LT\",\"LU\",\"MK\",\"MT\",\"MD\",\"MC\",\"ME\",\"NL\",\"NO\",\"PL\",\"PT\",\"RO\",\"RU\",\"SM\",\"RS\",\"SK\",\"SI\",\"ES\",\"SJ\",\"SE\",\"CH\",\"TR\",\"UA\",\"AI\",\"AG\",\"AW\",\"BS\",\"BB\",\"BZ\",\"BM\",\"BQ\",\"CA\",\"KY\",\"CR\",\"CU\",\"CW\",\"DM\",\"DO\",\n",
      "\"SV\",\"GL\",\"GD\",\"GP\",\"GT\",\"HT\",\"HN\",\"JM\",\"MQ\",\"MX\",\"MS\",\"NI\",\"PA\",\"PR\",\"BL\",\"KN\",\"LC\",\"MF\",\"PM\",\"VC\",\"SX\",\"TT\",\"TC\",\"VG\",\"VI\",\"GB\",\"UK\"],\"wgAdDriverIncontentPlayerSlotCountries\":[\"XX\"],\"wgAdDriverKikimoraPlayerTrackingCountries\":[\"XX\"],\"wgAdDriverKikimoraTrackingCountries\":[\"XX\"],\"wgAdDriverKikimoraViewabilityTrackingCountries\":[\"XX\"],\"wgAdDriverLABradorDfpKeyvals\":[\"wgAdDriverCTPDesktopQueenCountries_A_99:queen_ctp_a\",\"wgAdDriverCTPDesktopQueenCountries_B_1:queen_ctp_b\",\"wgAdDriverBfabStickinessOasisCountries_A_90:oasis_stickyblb_a\",\"wgAdDriverBfabStickinessOasisCountries_B_10:oasis_stickyblb_b\",\"wgAdDriverF2BfabStickinessCountries_A_99:ns_sticky_blb_a\",\"wgAdDriverF2BfabStickinessCountries_B_1:ns_sticky_blb_b\",\"wgAdDriverLazyBottomLeaderboardMobileWikiCountries_A_50:lazy_blb_a\",\"wgAdDriverLazyBottomLeaderboardMobileWikiCountries_B_50:lazy_blb_b\",\"wgAdDriverBrowsiCountries_A_50:browsi_a\",\"wgAdDriverBrowsiCountries_B_50:browsi_b\",\n",
      "\"wgAdDriverGAMLazyLoadingCountries_A_50:gam_lazy_loading_a\",\"wgAdDriverGAMLazyLoadingCountries_B_50:gam_lazy_loading_b\",\"icFloorAdhesionClickPositionTracking_A_0:floor_adhesion_click_position_a\",\"icFloorAdhesionClickPositionTracking_B_100:floor_adhesion_click_position_b\",\"icFloorAdhesionViewportsToStart-0_A_50:floor_adhesion_viewports_to_start_a\",\"icFloorAdhesionViewportsToStart-0_B_50:floor_adhesion_viewports_to_start_b\",\"icFloorAdhesionViewportsToStart-1_A_50:floor_adhesion_viewports_to_start_a\",\"icFloorAdhesionViewportsToStart-1_B_50:floor_adhesion_viewports_to_start_b\",\"icFloorAdhesionViewportsToStart-2_A_50:floor_adhesion_viewports_to_start_a\",\"icFloorAdhesionViewportsToStart-2_B_50:floor_adhesion_viewports_to_start_b\",\"icFloorAdhesionViewportsToStart_A_50:floor_adhesion_viewports_to_start_a\",\"icFloorAdhesionViewportsToStart_B_50:floor_adhesion_viewports_to_start_b\",\"icTopBoxadOutOfPage-0_A_50:out_of_page_mr_a\",\"icTopBoxadOutOfPage-0_B_50:out_of_page_mr_b\",\n",
      "\"icTopBoxadOutOfPage_A_50:out_of_page_mr_a\",\"icTopBoxadOutOfPage_B_50:out_of_page_mr_b\",\"icPorvataDirect_A_50:porvata_direct_a\",\"icPorvataDirect_B_50:porvata_direct_b\",\"icFloorAdhesionTimeToCloseButton_A_95:show_floor_close_button_a\",\"icFloorAdhesionTimeToCloseButton_B_5:show_floor_close_button_b\",\"icInvisibleHighImpact2TimeToCloseButton_A_50:show_ihi2_close_button_a\",\"icInvisibleHighImpact2TimeToCloseButton_B_50:show_ihi2_close_button_b\",\"icFloorAdhesionDelay_A_95:floor_adhesion_delay_a\",\"icFloorAdhesionDelay_B_5:floor_adhesion_delay_b\",\"icPrebidSendAllBids_A_95:send_all_bids_a\",\"icPrebidSendAllBids_B_5:send_all_bids_b\"],\"wgAdDriverLABradorTestCountries\":[\"PL\\/40-cached\"],\"wgAdDriverMoatTrackingForFeaturedVideoAdCountries\":[\"US\",\"PL\",\"UK\",\"GB\",\"MY\",\"SG\",\"ID\",\"PH\"],\"wgAdDriverMoatTrackingForFeaturedVideoAdSampling\":100,\"wgAdDriverMoatYieldIntelligenceCountries\":[\"ID\",\"GB\",\"UK\"],\"wgAdDriverMobileTopBoxadCountries\":[\"XX\"],\"wgAdDriverMobileWikiAE3SearchCountries\":[\"XX\"],\n",
      "\"wgAdDriverNielsenCountries\":[\"XX\"],\"wgAdDriverOasisHiviLeaderboardCountries\":[\"XX\"],\"wgAdDriverOverscrolledCountries\":[\"XX\"],\"wgAdDriverPlayAdsOnNextFVCountries\":[\"XX\"],\"wgAdDriverPlayAdsOnNextFVFrequency\":1,\"wgAdDriverPorvataMoatTrackingCountries\":[\"US\",\"PL\",\"UK\",\"GB\",\"MY\",\"SG\",\"ID\",\"PH\"],\"wgAdDriverPorvataMoatTrackingSampling\":10,\"wgAdDriverPrebidBuiltInTargetingCountries\":[\"XX\"],\"wgAdDriverPrebidOptOutCountries\":[\"PL\",\"XX-EU\"],\"wgAdDriverRabbitTargetingKeyValues\":[\"mnivens\",\"queendesktop\",\"ctpmobile\",\"ctpdesktop\"],\"wgAdDriverRepeatMobileIncontentCountries\":[\"XX\"],\"wgAdDriverRepeatMobileIncontentExtendedCountries\":[\"PL\",\"UK\",\"GB\",\"TR\",\"FR\",\"AU\",\"CA\",\"IL\"],\"wgAdDriverRubiconDfpCountries\":[\"XX\"],\"wgAdDriverScrollDepthTrackingCountries\":[\"PL\"],\"wgAdDriverScrollSpeedTrackingCountries\":[\"XX\"],\"wgAdDriverStickySlotsLines\":[\"4366940064\",\"4916913597\",\"4913869429\",\"4950039599\",\"4949392740\",\"5093231180\",\"5096621951\",\"5108026783\",\"5100305721\",\"5116000005\",\"5115963805\",\"5121589422\",\"5100489589\"\n",
      ",\"5118418989\",\"5118418995\",\"5131937498\",\"5132504554\",\"5139223366\",\"5158191077\",\"5165205535\",\"5163074581\",\"5166394551\",\"5175071508\",\"5169100059\",\"5165583595\",\"5167302221\",\"5189111245\",\"5192432391\",\"5193192890\",\"5192795422\",\"5193150200\",\"5193150659\",\"5192392746\",\"5192392545\",\"5198000126\",\"5197617034\",\"5197617073\",\"5197615912\",\"5193150233\",\"5202783548\",\"5202783344\",\"5193192890\",\"5192795422\",\"5205555020\",\"5205555023\",\"5205966846\",\"5205967131\",\"5235744451\",\"5235743935\",\"5239889647\",\"5247105562\",\"5266602928\",\"5266602940\",\"5292797268\",\"5293798924\"],\"wgMobileQualaroo\":!0,\"wgArticleVideoAutoplayCountries\":[\"XX\"],\"wgArticleVideoNextVideoAutoplayCountries\":[\"XX\"]};\n",
      "    </script>\n",
      "    <script src=\"https://slot1-images.wikia.nocookie.net/__load/-/cb%3D1581723413538%26debug%3Dfalse%26lang%3Den%26only%3Dscripts%26skin%3Doasis/wikia.ext.instantGlobals,instantGlobalsOverride,abt3sting\">\n",
      "    </script>\n",
      "    <script src=\"https://slot1-images.wikia.nocookie.net/__load/-/cb%3D1581723413538%26debug%3Dfalse%26lang%3Den%26only%3Dscripts%26skin%3Doasis/amd|wikia.tracker.stub,stub|wikia.abTest,cache,cookies,document,geo,instantGlobals,location,log,querystring,window\">\n",
      "    </script>\n",
      "    <script>\n",
      "     /*<![CDATA[*/window.mw.fk&&delete mw;/*]]>*/\n",
      "    </script>\n",
      "    <!-- Wikia Beacon Tracking -->\n",
      "    <script>\n",
      "     (function () {\n",
      "\t\tfunction genUID() {\n",
      "\t\t\treturn 'xxxxxxxx-xxxx-4xxx-yxxx-xxxxxxxxxxxx'.replace(/[xy]/g, function (c) {\n",
      "\t\t\t\tvar r = Math.random() * 16 | 0, v = c === 'x' ? r : (r & 0x3 | 0x8);\n",
      "\t\t\t\treturn v.toString(16);\n",
      "\t\t\t});\n",
      "\t\t}\n",
      "\n",
      "\t\tfunction getCookieValue(cookieName) {\n",
      "\t\t\tvar cookieSplit = ('; ' + document.cookie).split('; ' + cookieName + '=');\n",
      "\n",
      "\t\t\treturn cookieSplit.length === 2 ? cookieSplit.pop().split(';').shift() : null;\n",
      "\t\t}\n",
      "\n",
      "\t\tvar expireDate = new Date(),\n",
      "\t\t\tbeacon = getCookieValue('wikia_beacon_id'),\n",
      "\t\t\tsessionId = getCookieValue('tracking_session_id'),\n",
      "\t\t\tpvNumber = getCookieValue('pv_number'),\n",
      "\t\t\tpvNumberGlobal = getCookieValue('pv_number_global');\n",
      "\n",
      "\t\tif (beacon) {\n",
      "\t\t\twindow.beacon_id = beacon;\n",
      "\t\t}\n",
      "\n",
      "\t\twindow.sessionId = sessionId ? sessionId : genUID();\n",
      "\t\twindow.pvNumber = pvNumber ? parseInt(pvNumber, 10) + 1 : 1;\n",
      "\t\twindow.pvNumberGlobal = pvNumberGlobal ? parseInt(pvNumberGlobal, 10) + 1 : 1;\n",
      "\t\twindow.pvUID = genUID();\n",
      "\n",
      "\t\texpireDate = new Date(expireDate.getTime() + 1000 * 60 * 30);\n",
      "\t\tdocument.cookie = 'tracking_session_id=' + window.sessionId + '; expires=' + expireDate.toGMTString() +\n",
      "\t\t\t';domain=' + window.wgCookieDomain + '; path=' + window.wgCookiePath + ';';\n",
      "\t\tdocument.cookie = 'pv_number=' + window.pvNumber + '; expires=' + expireDate.toGMTString() +\n",
      "\t\t\t'; path=' + window.wgCookiePath + ';';\n",
      "\t\tdocument.cookie = 'pv_number_global=' + window.pvNumberGlobal + '; expires=' + expireDate.toGMTString() +\n",
      "\t\t\t';domain=' + window.wgCookieDomain + '; path=' + window.wgCookiePath + ';';\n",
      "\t})();\n",
      "    </script>\n",
      "    <script src=\"https://slot1-images.wikia.nocookie.net/__am/1581723413538/groups/-/abtesting,oasis_blocking,universal_analytics_js,adengine3_top_js,tracking_opt_in_js,qualaroo_blocking_js\" type=\"text/javascript\">\n",
      "    </script>\n",
      "    <!-- Make IE recognize HTML5 tags. -->\n",
      "    <!--[if IE]>\n",
      "\t<script>/*@cc_on'abbr article aside audio canvas details figcaption figure footer header hgroup mark menu meter nav output progress section summary time video'.replace(/\\w+/g,function(n){document.createElement(n)})@*/</script>\n",
      "<![endif]-->\n",
      "    <meta content=\"112328095453510\" prefix=\"fb: http://www.facebook.com/2008/fbml\" property=\"fb:app_id\"/>\n",
      "    <meta content=\"article\" property=\"og:type\"/>\n",
      "    <meta content=\"Memo\n"
     ]
    }
   ],
   "source": [
    "print(soup.prettify()[:15000])"
   ]
  },
  {
   "cell_type": "markdown",
   "metadata": {
    "colab_type": "text",
    "id": "PJdaDTvYK0AP"
   },
   "source": [
    "### Check the HTML's Title"
   ]
  },
  {
   "cell_type": "code",
   "execution_count": 8,
   "metadata": {
    "colab": {},
    "colab_type": "code",
    "id": "OC0D540CK0AQ",
    "scrolled": false
   },
   "outputs": [
    {
     "name": "stdout",
     "output_type": "stream",
     "text": [
      "Title tag :<title>Prinadora | Memory Alpha | Fandom</title>:\n",
      "Title text:Prinadora | Memory Alpha | Fandom:\n"
     ]
    }
   ],
   "source": [
    "print('Title tag :%s:' % soup.title)\n",
    "print('Title text:%s:' % soup.title.string)"
   ]
  },
  {
   "cell_type": "markdown",
   "metadata": {
    "colab_type": "text",
    "id": "vaFq7vsOK0AY"
   },
   "source": [
    "### Wikimedia's article\n",
    "- Wiki pages use the tag `article` for the actual content of the page\n",
    "\n",
    "        <article class=\"WikiaMainContent\" id=\"WikiaMainContent\">\n",
    "            <div class=\"WikiaMainContentContainer\" id=\"WikiaMainContentContainer\">\n",
    "                <div class=\"WikiaArticle\" id=\"WikiaArticle\">"
   ]
  },
  {
   "cell_type": "code",
   "execution_count": 9,
   "metadata": {
    "colab": {},
    "colab_type": "code",
    "id": "k-HJ_xyiK0AY"
   },
   "outputs": [
    {
     "name": "stdout",
     "output_type": "stream",
     "text": [
      "Type of the variable 'article': Tag\n"
     ]
    }
   ],
   "source": [
    "tag = 'article'\n",
    "article = soup.find_all(tag)[0]\n",
    "print('Type of the variable \\'article\\':', article.__class__.__name__)"
   ]
  },
  {
   "cell_type": "markdown",
   "metadata": {
    "colab_type": "text",
    "id": "38cw389dK0Aa"
   },
   "source": [
    "### Get some of the text\n",
    "- Plain text without HTML tags"
   ]
  },
  {
   "cell_type": "code",
   "execution_count": 10,
   "metadata": {
    "colab": {},
    "colab_type": "code",
    "id": "Ptx4JvLaK0Ab",
    "scrolled": true
   },
   "outputs": [
    {
     "name": "stdout",
     "output_type": "stream",
     "text": [
      "\n",
      "Gender:\n",
      "Female\n",
      "Species:\n",
      "Ferengi\n",
      "Status:\n",
      "Active (2373)\n",
      "Marital Status:\n",
      "Divorced and in another relationship\n",
      "Spouse(s):\n",
      "Rom (ex)\n",
      "Children:\n",
      "One son, Nog\n",
      "Prinadora was a Ferengi female, the first – and former – wife of Rom and mother of Nog. \n",
      "Rom's first marriage began when he signed a standard five-year marriage contract with Prinadora's father to produce a child. He then made the mistake of falling in love with his wife. As a result, he signed an extension to the contract without reading the fine\n"
     ]
    }
   ],
   "source": [
    "# show the first 500 characters after removing redundant newlines\n",
    "print(re.sub(r'\\n\\n+', '\\n', article.text)[:500])"
   ]
  },
  {
   "cell_type": "markdown",
   "metadata": {
    "colab_type": "text",
    "id": "hCV5HRw3K0Ad"
   },
   "source": [
    "### Find the links in the text"
   ]
  },
  {
   "cell_type": "code",
   "execution_count": 15,
   "metadata": {
    "colab": {},
    "colab_type": "code",
    "id": "TJNCkV4oK0Ad"
   },
   "outputs": [
    {
     "data": {
      "text/plain": [
       "['/wiki/Ferengi',\n",
       " '/wiki/2373',\n",
       " '/wiki/Divorce',\n",
       " '/wiki/Prinadora%27s_richer_man_001',\n",
       " '/wiki/Rom',\n",
       " '/wiki/Son',\n",
       " '/wiki/Nog',\n",
       " '/wiki/Ferengi',\n",
       " '/wiki/Female',\n",
       " '/wiki/Wife',\n",
       " '/wiki/Rom',\n",
       " '/wiki/Mother',\n",
       " '/wiki/Nog',\n",
       " '/wiki/Marriage',\n",
       " None,\n",
       " '/wiki/Prinadora%27s_father_001',\n",
       " '/wiki/Child',\n",
       " '/wiki/Love',\n",
       " '/wiki/Prinadora%27s_richer_man_001',\n",
       " '/wiki/Star_Trek:_Deep_Space_Nine',\n",
       " '/wiki/Doctor_Bashir,_I_Presume_(episode)',\n",
       " '/wiki/2373',\n",
       " '/wiki/Leeta',\n",
       " '/wiki/Star_Trek:_Deep_Space_Nine',\n",
       " '/wiki/Ferengi_Love_Songs_(episode)',\n",
       " '#',\n",
       " '/wiki/Prinadora?action=edit&section=1',\n",
       " '/wiki/Prinadora?action=edit&section=2',\n",
       " '/wiki/DS9_Season_6',\n",
       " '/wiki/Change_of_Heart_(episode)',\n",
       " '/wiki/Star_Trek:_Deep_Space_Nine_Companion',\n",
       " '/wiki/Prinadora?action=edit&section=3',\n",
       " '/wiki/Lolita_Fatjo',\n",
       " '/wiki/Max_Grodenchik',\n",
       " '/wiki/Aron_Eisenberg',\n",
       " '/wiki/Chase_Masterson',\n",
       " '/wiki/Change_of_Heart_(episode)',\n",
       " '/wiki/Deep_Space_9',\n",
       " 'http://www.treknation.com/articles/a_weekend_with_the_stars_part_one.shtml',\n",
       " '/wiki/Worlds_of_Star_Trek:_Deep_Space_Nine,_Volume_Three',\n",
       " '/wiki/Worlds_of_Star_Trek:_Deep_Space_Nine',\n",
       " '/wiki/Grand_Nagus',\n",
       " '/wiki/Ro_Laren',\n",
       " '/wiki/Prinadora?action=edit&section=4',\n",
       " '//memory-beta.fandom.com/wiki/Prinadora',\n",
       " '//memory-beta.fandom.com/wiki/',\n",
       " 'https://memory-alpha.fandom.com/wiki/Prinadora?oldid=2423535',\n",
       " '/wiki/Special:Categories',\n",
       " '/wiki/Category:Ferengi',\n",
       " 'https://memory-alpha.fandom.com/de/wiki/Prinadora',\n",
       " 'https://www.fandom.com/licensing']"
      ]
     },
     "execution_count": 15,
     "metadata": {},
     "output_type": "execute_result"
    }
   ],
   "source": [
    "# identify the type of tag to retrieve\n",
    "tag = 'a'\n",
    "# create a list with the links from the `<a>` tag\n",
    "tag_list = [t.get('href') for t in article.find_all(tag)]\n",
    "tag_list"
   ]
  },
  {
   "cell_type": "code",
   "execution_count": 16,
   "metadata": {
    "colab": {},
    "colab_type": "code",
    "id": "8zIsCxQMK0Ag"
   },
   "outputs": [
    {
     "data": {
      "text/plain": [
       "['Ferengi',\n",
       " '2373',\n",
       " 'Divorce',\n",
       " 'Prinadora%27s_richer_man_001',\n",
       " 'Rom',\n",
       " 'Son',\n",
       " 'Nog',\n",
       " 'Ferengi',\n",
       " 'Female',\n",
       " 'Wife',\n",
       " 'Rom',\n",
       " 'Mother',\n",
       " 'Nog',\n",
       " 'Marriage',\n",
       " 'Prinadora%27s_father_001',\n",
       " 'Child',\n",
       " 'Love',\n",
       " 'Prinadora%27s_richer_man_001',\n",
       " 'Star_Trek:_Deep_Space_Nine',\n",
       " 'Doctor_Bashir,_I_Presume_(episode)',\n",
       " '2373',\n",
       " 'Leeta',\n",
       " 'Star_Trek:_Deep_Space_Nine',\n",
       " 'Ferengi_Love_Songs_(episode)',\n",
       " 'Prinadora?action=edit&section=1',\n",
       " 'Prinadora?action=edit&section=2',\n",
       " 'DS9_Season_6',\n",
       " 'Change_of_Heart_(episode)',\n",
       " 'Star_Trek:_Deep_Space_Nine_Companion',\n",
       " 'Prinadora?action=edit&section=3',\n",
       " 'Lolita_Fatjo',\n",
       " 'Max_Grodenchik',\n",
       " 'Aron_Eisenberg',\n",
       " 'Chase_Masterson',\n",
       " 'Change_of_Heart_(episode)',\n",
       " 'Deep_Space_9',\n",
       " 'Worlds_of_Star_Trek:_Deep_Space_Nine,_Volume_Three',\n",
       " 'Worlds_of_Star_Trek:_Deep_Space_Nine',\n",
       " 'Grand_Nagus',\n",
       " 'Ro_Laren',\n",
       " 'Prinadora?action=edit&section=4',\n",
       " 'Special:Categories',\n",
       " 'Category:Ferengi']"
      ]
     },
     "execution_count": 16,
     "metadata": {},
     "output_type": "execute_result"
    }
   ],
   "source": [
    "# keep only the links to the wiki itself\n",
    "tag_list = [t[6:] for t in tag_list if (t) and (t.startswith('/wiki/'))]\n",
    "tag_list"
   ]
  },
  {
   "cell_type": "code",
   "execution_count": 18,
   "metadata": {
    "colab": {},
    "colab_type": "code",
    "id": "hO5dSet3K0Ai"
   },
   "outputs": [
    {
     "data": {
      "text/plain": [
       "['Ferengi',\n",
       " '2373',\n",
       " 'Divorce',\n",
       " 'Prinadora%27s_richer_man_001',\n",
       " 'Rom',\n",
       " 'Son',\n",
       " 'Nog',\n",
       " 'Ferengi',\n",
       " 'Female',\n",
       " 'Wife',\n",
       " 'Rom',\n",
       " 'Mother',\n",
       " 'Nog',\n",
       " 'Marriage',\n",
       " 'Prinadora%27s_father_001',\n",
       " 'Child',\n",
       " 'Love',\n",
       " 'Prinadora%27s_richer_man_001',\n",
       " 'Doctor_Bashir,_I_Presume_(episode)',\n",
       " '2373',\n",
       " 'Leeta',\n",
       " 'Ferengi_Love_Songs_(episode)',\n",
       " 'DS9_Season_6',\n",
       " 'Change_of_Heart_(episode)',\n",
       " 'Lolita_Fatjo',\n",
       " 'Max_Grodenchik',\n",
       " 'Aron_Eisenberg',\n",
       " 'Chase_Masterson',\n",
       " 'Change_of_Heart_(episode)',\n",
       " 'Deep_Space_9',\n",
       " 'Grand_Nagus',\n",
       " 'Ro_Laren']"
      ]
     },
     "execution_count": 18,
     "metadata": {},
     "output_type": "execute_result"
    }
   ],
   "source": [
    "# create a filter for undesired links\n",
    "filter  = '(%s)' % '|'.join([\n",
    "    'Category:',\n",
    "    'File:',\n",
    "    'Help:',\n",
    "    'Memory_Alpha:',\n",
    "    'Portal:',\n",
    "    'action=',\n",
    "    'Special:',\n",
    "    'Star_Trek:',\n",
    "    'Star_Trek_',\n",
    "    'Talk:'\n",
    "])\n",
    "# remove the links that are found in the filter\n",
    "tag_list = [t for t in tag_list if not re.search(filter, t)]\n",
    "tag_list"
   ]
  },
  {
   "cell_type": "code",
   "execution_count": 19,
   "metadata": {
    "colab": {},
    "colab_type": "code",
    "id": "4N0NWnoPK0Ak"
   },
   "outputs": [
    {
     "data": {
      "text/plain": [
       "['Max_Grodenchik',\n",
       " 'Love',\n",
       " 'Ferengi_Love_Songs_(episode)',\n",
       " 'Prinadora%27s_richer_man_001',\n",
       " 'Rom',\n",
       " 'Ferengi',\n",
       " 'Nog',\n",
       " 'DS9_Season_6',\n",
       " 'Leeta',\n",
       " 'Change_of_Heart_(episode)',\n",
       " 'Chase_Masterson',\n",
       " 'Child',\n",
       " 'Divorce',\n",
       " 'Prinadora%27s_father_001',\n",
       " 'Deep_Space_9',\n",
       " 'Marriage',\n",
       " '2373',\n",
       " 'Lolita_Fatjo',\n",
       " 'Aron_Eisenberg',\n",
       " 'Female',\n",
       " 'Doctor_Bashir,_I_Presume_(episode)',\n",
       " 'Son',\n",
       " 'Grand_Nagus',\n",
       " 'Ro_Laren',\n",
       " 'Mother',\n",
       " 'Wife']"
      ]
     },
     "execution_count": 19,
     "metadata": {},
     "output_type": "execute_result"
    }
   ],
   "source": [
    "# remove duplicates\n",
    "tag_list = list(set(tag_list))\n",
    "tag_list"
   ]
  },
  {
   "cell_type": "code",
   "execution_count": 20,
   "metadata": {
    "colab": {},
    "colab_type": "code",
    "id": "NJ-92iBZK0Am"
   },
   "outputs": [
    {
     "data": {
      "text/plain": [
       "['Max_Grodenchik',\n",
       " 'Love',\n",
       " 'Ferengi_Love_Songs_(episode)',\n",
       " \"Prinadora's_richer_man_001\",\n",
       " 'Rom',\n",
       " 'Ferengi',\n",
       " 'Nog',\n",
       " 'DS9_Season_6',\n",
       " 'Leeta',\n",
       " 'Change_of_Heart_(episode)',\n",
       " 'Chase_Masterson',\n",
       " 'Child',\n",
       " 'Divorce',\n",
       " \"Prinadora's_father_001\",\n",
       " 'Deep_Space_9',\n",
       " 'Marriage',\n",
       " '2373',\n",
       " 'Lolita_Fatjo',\n",
       " 'Aron_Eisenberg',\n",
       " 'Female',\n",
       " 'Doctor_Bashir,_I_Presume_(episode)',\n",
       " 'Son',\n",
       " 'Grand_Nagus',\n",
       " 'Ro_Laren',\n",
       " 'Mother',\n",
       " 'Wife']"
      ]
     },
     "execution_count": 20,
     "metadata": {},
     "output_type": "execute_result"
    }
   ],
   "source": [
    "# convert escaped sequences\n",
    "tag_list = [unquote(t) for t in tag_list]\n",
    "tag_list"
   ]
  },
  {
   "cell_type": "code",
   "execution_count": 21,
   "metadata": {
    "colab": {},
    "colab_type": "code",
    "id": "ODJEoku8K0An"
   },
   "outputs": [
    {
     "data": {
      "text/plain": [
       "['Max Grodenchik',\n",
       " 'Love',\n",
       " 'Ferengi Love Songs (episode)',\n",
       " \"Prinadora's richer man 001\",\n",
       " 'Rom',\n",
       " 'Ferengi',\n",
       " 'Nog',\n",
       " 'DS9 Season 6',\n",
       " 'Leeta',\n",
       " 'Change of Heart (episode)',\n",
       " 'Chase Masterson',\n",
       " 'Child',\n",
       " 'Divorce',\n",
       " \"Prinadora's father 001\",\n",
       " 'Deep Space 9',\n",
       " 'Marriage',\n",
       " '2373',\n",
       " 'Lolita Fatjo',\n",
       " 'Aron Eisenberg',\n",
       " 'Female',\n",
       " 'Doctor Bashir, I Presume (episode)',\n",
       " 'Son',\n",
       " 'Grand Nagus',\n",
       " 'Ro Laren',\n",
       " 'Mother',\n",
       " 'Wife']"
      ]
     },
     "execution_count": 21,
     "metadata": {},
     "output_type": "execute_result"
    }
   ],
   "source": [
    "# convert underscore to space\n",
    "tag_list = [re.sub('_', ' ', t) for t in tag_list]\n",
    "tag_list"
   ]
  },
  {
   "cell_type": "code",
   "execution_count": 22,
   "metadata": {
    "colab": {},
    "colab_type": "code",
    "id": "hc77nPaDK0Ao",
    "scrolled": false
   },
   "outputs": [
    {
     "data": {
      "text/plain": [
       "['2373',\n",
       " 'Aron Eisenberg',\n",
       " 'Change of Heart (episode)',\n",
       " 'Chase Masterson',\n",
       " 'Child',\n",
       " 'DS9 Season 6',\n",
       " 'Deep Space 9',\n",
       " 'Divorce',\n",
       " 'Doctor Bashir, I Presume (episode)',\n",
       " 'Female',\n",
       " 'Ferengi',\n",
       " 'Ferengi Love Songs (episode)',\n",
       " 'Grand Nagus',\n",
       " 'Leeta',\n",
       " 'Lolita Fatjo',\n",
       " 'Love',\n",
       " 'Marriage',\n",
       " 'Max Grodenchik',\n",
       " 'Mother',\n",
       " 'Nog',\n",
       " \"Prinadora's father 001\",\n",
       " \"Prinadora's richer man 001\",\n",
       " 'Ro Laren',\n",
       " 'Rom',\n",
       " 'Son',\n",
       " 'Wife']"
      ]
     },
     "execution_count": 22,
     "metadata": {},
     "output_type": "execute_result"
    }
   ],
   "source": [
    "# order the list\n",
    "tag_list.sort()\n",
    "tag_list"
   ]
  },
  {
   "cell_type": "markdown",
   "metadata": {
    "colab_type": "text",
    "id": "Vh4ag5cSK0Ar"
   },
   "source": [
    "### Create a filter for unwanted types of articles"
   ]
  },
  {
   "cell_type": "code",
   "execution_count": 23,
   "metadata": {
    "colab": {},
    "colab_type": "code",
    "id": "zdXMj4CSK0Ar"
   },
   "outputs": [
    {
     "data": {
      "text/plain": [
       "['2373',\n",
       " 'Aron Eisenberg',\n",
       " 'Chase Masterson',\n",
       " 'Child',\n",
       " 'Deep Space 9',\n",
       " 'Divorce',\n",
       " 'Female',\n",
       " 'Ferengi',\n",
       " 'Grand Nagus',\n",
       " 'Leeta',\n",
       " 'Lolita Fatjo',\n",
       " 'Love',\n",
       " 'Marriage',\n",
       " 'Max Grodenchik',\n",
       " 'Mother',\n",
       " 'Nog',\n",
       " \"Prinadora's father 001\",\n",
       " \"Prinadora's richer man 001\",\n",
       " 'Ro Laren',\n",
       " 'Rom',\n",
       " 'Son',\n",
       " 'Wife']"
      ]
     },
     "execution_count": 23,
     "metadata": {},
     "output_type": "execute_result"
    }
   ],
   "source": [
    "filter  = '(%s)' % '|'.join([\n",
    "    'episode',\n",
    "    'lternate_reality', # both Alternate_reality and alternate_reality\n",
    "    'mirror',\n",
    "    'rank',\n",
    "    'production',\n",
    "    'Season'\n",
    "])\n",
    "# remove the links that are found in the filter\n",
    "tag_list = [t for t in tag_list if not re.search(filter, t)]\n",
    "tag_list"
   ]
  },
  {
   "cell_type": "markdown",
   "metadata": {
    "colab_type": "text",
    "id": "RERADKgNFq9T"
   },
   "source": [
    "\n",
    "\n",
    "---\n",
    "\n",
    "\n",
    "\n",
    "---\n",
    "\n",
    "\n",
    "\n",
    "> > > > > > > > > © 2019 Institute of Data\n",
    "\n",
    "\n",
    "---\n",
    "\n",
    "\n",
    "\n",
    "---\n",
    "\n",
    "\n",
    "\n"
   ]
  }
 ],
 "metadata": {
  "colab": {
   "collapsed_sections": [],
   "name": "DSIA Demo-9_3.ipynb",
   "provenance": []
  },
  "kernelspec": {
   "display_name": "Python 3",
   "language": "python",
   "name": "python3"
  },
  "language_info": {
   "codemirror_mode": {
    "name": "ipython",
    "version": 3
   },
   "file_extension": ".py",
   "mimetype": "text/x-python",
   "name": "python",
   "nbconvert_exporter": "python",
   "pygments_lexer": "ipython3",
   "version": "3.7.4"
  }
 },
 "nbformat": 4,
 "nbformat_minor": 1
}
