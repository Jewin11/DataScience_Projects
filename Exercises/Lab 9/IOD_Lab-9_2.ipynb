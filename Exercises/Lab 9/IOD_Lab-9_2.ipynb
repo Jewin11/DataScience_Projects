{
 "cells": [
  {
   "cell_type": "markdown",
   "metadata": {
    "colab_type": "text",
    "id": "zYPZ2MKXMk4U"
   },
   "source": [
    "<div>\n",
    "<img src=https://www.institutedata.com/wp-content/uploads/2019/10/iod_h_tp_primary_c.svg width=\"300\">\n",
    "</div>"
   ]
  },
  {
   "cell_type": "markdown",
   "metadata": {
    "colab_type": "text",
    "id": "8j6-MfKHMk4Y"
   },
   "source": [
    "# Lab 9.2: Web Scraping\n",
    "INSTRUCTIONS:\n",
    "- Read the guides and hints then create the necessary analysis and code to find an answer and conclusion for the task below."
   ]
  },
  {
   "cell_type": "markdown",
   "metadata": {
    "colab_type": "text",
    "id": "HImUFlzCMk4c"
   },
   "source": [
    "# Web Scraping in Python (using BeautifulSoup)\n",
    "\n",
    "## Scraping Rules\n",
    "1. **Always** check a website’s **Terms and Conditions** before you scrape it. Be careful to read the statements about legal use of data. Usually, the retrieved data should not be used for commercial purposes.\n",
    "2. **Do not** request data from the website too aggressively with a program (also known as spamming), as this may break the website. Make sure the program behaves in a reasonable manner (i.e. acts like a human). One request for one webpage per second is good practice.\n",
    "3. The layout of a website may change from time to time, so make sure to revisit the site and rewrite the code as needed"
   ]
  },
  {
   "cell_type": "markdown",
   "metadata": {
    "colab_type": "text",
    "id": "l6UcvsYfMk4f"
   },
   "source": [
    "## Find a Page\n",
    "Visit the [Fandom](http://fandom.wikia.com) website, find a wikia of your interest and pick a page to work with."
   ]
  },
  {
   "cell_type": "markdown",
   "metadata": {
    "colab_type": "text",
    "id": "-NXv6z-6Mk4i"
   },
   "source": [
    "Open a web page with the browser and inspect it.\n",
    "\n",
    "Hover the cursor on the text and follow the shaded box surrounding the main text.\n",
    "\n",
    "From the result, check the main text inside a few levels of HTML tags."
   ]
  },
  {
   "cell_type": "code",
   "execution_count": 1,
   "metadata": {
    "colab": {},
    "colab_type": "code",
    "id": "nYkrA5JuMk4m"
   },
   "outputs": [],
   "source": [
    "## Import Libraries\n",
    "import regex as re\n",
    "\n",
    "from urllib.parse import unquote\n",
    "import urllib3\n",
    "from bs4 import BeautifulSoup\n",
    "\n",
    "import warnings\n",
    "warnings.filterwarnings('ignore')"
   ]
  },
  {
   "cell_type": "markdown",
   "metadata": {
    "colab_type": "text",
    "id": "hb3_djX0Mk4s"
   },
   "source": [
    "### Define the content to retrieve (webpage's URL)"
   ]
  },
  {
   "cell_type": "code",
   "execution_count": 2,
   "metadata": {},
   "outputs": [],
   "source": [
    "# specify the url\n",
    "quote_page = 'https://memory-alpha.fandom.com/wiki/Portal:Main'"
   ]
  },
  {
   "cell_type": "markdown",
   "metadata": {
    "colab_type": "text",
    "id": "pKYTTGA1Mk4t"
   },
   "source": [
    "### Retrieve the page\n",
    "- Require Internet connection"
   ]
  },
  {
   "cell_type": "code",
   "execution_count": 3,
   "metadata": {},
   "outputs": [
    {
     "name": "stdout",
     "output_type": "stream",
     "text": [
      "Type of the variable 'page': bytes\n",
      "Page Retrieved. Request Status: 200, Page Size: 283484\n"
     ]
    }
   ],
   "source": [
    "http = urllib3.PoolManager()\n",
    "r = http.request('GET', quote_page)\n",
    "if r.status == 200:\n",
    "    page = r.data\n",
    "    print('Type of the variable \\'page\\':', page.__class__.__name__)\n",
    "    print('Page Retrieved. Request Status: %d, Page Size: %d' % (r.status, len(page)))\n",
    "else:\n",
    "    print('Some problem occurred. Request Status: %s' % r.status)"
   ]
  },
  {
   "cell_type": "markdown",
   "metadata": {
    "colab_type": "text",
    "id": "w7HYoOoDMk4v"
   },
   "source": [
    "### Convert the stream of bytes into a BeautifulSoup representation"
   ]
  },
  {
   "cell_type": "code",
   "execution_count": 4,
   "metadata": {},
   "outputs": [
    {
     "name": "stdout",
     "output_type": "stream",
     "text": [
      "Type of the variable 'soup': BeautifulSoup\n"
     ]
    }
   ],
   "source": [
    "soup = BeautifulSoup(page, 'html.parser')\n",
    "print('Type of the variable \\'soup\\':', soup.__class__.__name__)"
   ]
  },
  {
   "cell_type": "markdown",
   "metadata": {
    "colab_type": "text",
    "id": "Zb0yHBblMk4w"
   },
   "source": [
    "### Check the content\n",
    "- The HTML source\n",
    "- Includes all tags and scripts\n",
    "- Can be long!"
   ]
  },
  {
   "cell_type": "code",
   "execution_count": 5,
   "metadata": {},
   "outputs": [
    {
     "name": "stdout",
     "output_type": "stream",
     "text": [
      "<!DOCTYPE doctype html>\n",
      "<html class=\"\" dir=\"ltr\" lang=\"en\">\n",
      " <head>\n",
      "  <meta content=\"text/html; charset=utf-8\" http-equiv=\"Content-Type\"/>\n",
      "  <meta content=\"width=device-width, user-scalable=yes\" name=\"viewport\"/>\n",
      "  <meta content=\"MediaWiki 1.19.24\" name=\"generator\">\n",
      "   <meta content=\"Memory Alpha,enmemoryalpha,Portal:Main,Titles/Stardust City Rag,Titles/The Impossible Box,Titles/Nepenthe,Aftershow/E/The Impossible Box,Titles/Rightful Heir,Titles/Spock's Brain,Titles/A Piece of the Action,Titles/Emissary,PicOfTheDay/26 February,Titles/Rocks and Shoals\" name=\"keywords\">\n",
      "    <meta content=\"Memory Alpha is a collaborative project to create the most definitive, accurate, and accessible encyclopedia and reference for everything related to Star Trek.\" name=\"description\"/>\n",
      "    <meta content=\"summary\" name=\"twitter:card\"/>\n",
      "    <meta content=\"@getfandom\" name=\"twitter:site\"/>\n",
      "    <meta content=\"https://memory-alpha.fandom.com/wiki/Portal:Main\" name=\"twitter:url\"/>\n",
      "    <meta content=\"Memory Alpha | Fandom\" name=\"twitter:title\"/>\n",
      "    <meta content=\"Welcome to Memory Alpha! Memory Alpha is a collaborative project to create the most definitive, accurate, and accessible encyclopedia and reference for everything related to Star Trek. The...\" name=\"twitter:description\"/>\n",
      "    <link href=\"https://memory-alpha.fandom.com/wiki/Portal:Main\" rel=\"canonical\"/>\n",
      "    <link href=\"https://vignette.wikia.nocookie.net/memoryalpha/images/b/bc/Wiki.png/revision/latest?cb=20150116203120&amp;path-prefix=en\" rel=\"apple-touch-icon\" sizes=\"135x95\"/>\n",
      "    <link href=\"https://vignette.wikia.nocookie.net/memoryalpha/images/6/64/Favicon.ico/revision/latest?cb=20080612103849&amp;path-prefix=en\" rel=\"shortcut icon\"/>\n",
      "    <link href=\"/opensearch_desc.php\" rel=\"search\" title=\"Memory Alpha (en)\" type=\"application/opensearchdescription+xml\"/>\n",
      "    <link href=\"https://memory-alpha.fandom.com/api.php?action=rsd\" rel=\"EditURI\" type=\"application/rsd+xml\"/>\n",
      "    <link href=\"/wiki/Memory_Alpha:Copyrights\" rel=\"copyright\"/>\n",
      "    <link href=\"/wiki/Special:RecentChanges?feed=atom\" rel=\"alternate\" title=\"Memory Alpha Atom feed\" type=\"application/atom+xml\"/>\n",
      "    <title>\n",
      "     Memory Alpha | Fandom\n",
      "    </title>\n",
      "    <!-- CSS injected by skin and extensions -->\n",
      "    <link href=\"https://slot1-images.wikia.nocookie.net/__am/1582569121038/sasses/background-dynamic%3Dfalse%26background-image%3D%252Fskins%252Foasis%252Fimages%252Fthemes%252Fcarbon.png%26background-image-height%3D600%26background-image-width%3D1600%26color-body%3D%25231a1a1a%26color-body-middle%3D%2523bacdd8%26color-buttons%3D%2523161616%26color-community-header%3D%2523660000%26color-header%3D%2523660000%26color-links%3D%252366bbff%26color-page%3D%25232e2e33%26oasisTypography%3D1%26page-opacity%3D70%26widthType%3D0/skins/oasis/css/oasis.scss,extensions/wikia/DesignSystem/styles/design-system.scss,extensions/wikia/CommunityHeader/styles/index.scss,extensions/wikia/PageHeader/styles/index.scss,extensions/wikia/Recirculation/styles/recirculation.scss,extensions/wikia/EmbeddableDiscussions/styles/EmbeddableDiscussions.scss,extensions/wikia/PortableInfobox/styles/PortableInfobox.scss,extensions/wikia/AdEngine3/dist/styles.scss,extensions/wikia/Qualaroo/css/Qualaroo.scss\" rel=\"stylesheet\"/>\n",
      "    <link href=\"/load.php?cb=1582569121038&amp;debug=false&amp;lang=en&amp;modules=site&amp;only=styles&amp;skin=oasis&amp;*\" rel=\"stylesheet\"/>\n",
      "    <style>\n",
      "     a:lang(ar),a:lang(ckb),a:lang(fa),a:lang(kk-arab),a:lang(mzn),a:lang(ps),a:lang(ur){text-decoration:none}a.new,#quickbar a.new{color:#ba0000}\n",
      "\n",
      "/* cache key: enmemoryalpha:resourceloader:filter:minify-css:7:c88e2bcd56513749bec09a7e29cb3ffa */\n",
      "    </style>\n",
      "    <script>\n",
      "     var Wikia={},\n",
      "wgUseSiteJs=true,\n",
      "wgWikiVertical=\"tv\",\n",
      "wgWikiCategories=[],\n",
      "wgOnSiteNotificationsApiUrl=\"https://services.fandom.com/on-site-notifications\",\n",
      "JSSnippetsStack=[],\n",
      "ads={\"context\":{\"bidders\":[],\"opts\":{\"adsInContent\":1,\"enableCheshireCat\":true,\"pageType\":\"all_ads\",\"showAds\":true},\"targeting\":{\"enablePageCategories\":true,\"esrbRating\":\"teen\",\"mappedVerticalName\":\"ent\",\"pageArticleId\":167105,\"pageIsArticle\":true,\"pageName\":\"Portal:Main\",\"pageType\":\"home\",\"wikiCategory\":\"ent\",\"wikiCustomKeyValues\":\"age=13-17;age=18-34;esrb=teen;gnre=mmo;gnre=scifi;media=movies;media=tv;media=books;pub=atari;sex=m;tv=cbs;tv=hulu\",\"wikiDbName\":\"enmemoryalpha\",\"wikiId\":\"113\",\"wikiIsTop1000\":true,\"wikiLanguage\":\"en\",\"wikiVertical\":\"tv\",\"newWikiCategories\":[\"ent\"]}},\"runtime\":{\"disableBtf\":false}},\n",
      "adslots2=[],\n",
      "wgGaHasAds=true,\n",
      "wgAfterContentAndJS=[],\n",
      "wgCdnRootUrl=\"https://slot1-images.wikia.nocookie.net\",\n",
      "wgCdnApiUrl=\"https://api.wikia.nocookie.net/__cb1582569121038\",\n",
      "Mercury=null,\n",
      "wgDBname=\"enmemoryalpha\",\n",
      "wgCityId=\"113\",\n",
      "wgContentLanguage=\"en\",\n",
      "wgUserName=null,\n",
      "wgArticleId=167105,\n",
      "wgCategories=[],\n",
      "wgPageName=\"Portal:Main\",\n",
      "wikiaPageType=\"home\",\n",
      "wikiaPageIsCorporate=false,\n",
      "wgArticleType=\"\",\n",
      "wgNamespaceNumber=102,\n",
      "skin=\"oasis\",\n",
      "_gaq=[],\n",
      "wgIsGASpecialWiki=true,\n",
      "wgStyleVersion=\"1582569121038\",\n",
      "wgTransactionContext={\"type\":\n"
     ]
    }
   ],
   "source": [
    "print(soup.prettify()[:5000])"
   ]
  },
  {
   "cell_type": "markdown",
   "metadata": {
    "colab_type": "text",
    "id": "Hy2z1218Mk4x"
   },
   "source": [
    "### Check the HTML's Title"
   ]
  },
  {
   "cell_type": "code",
   "execution_count": 6,
   "metadata": {},
   "outputs": [
    {
     "name": "stdout",
     "output_type": "stream",
     "text": [
      "Title tag :<title>Memory Alpha | Fandom</title>:\n",
      "Title text:Memory Alpha | Fandom:\n"
     ]
    }
   ],
   "source": [
    "print('Title tag :%s:' % soup.title)\n",
    "print('Title text:%s:' % soup.title.string)"
   ]
  },
  {
   "cell_type": "markdown",
   "metadata": {
    "colab_type": "text",
    "id": "NV3IJlHQMk4z"
   },
   "source": [
    "### Find the main content\n",
    "- Check if it is possible to use only the relevant data"
   ]
  },
  {
   "cell_type": "code",
   "execution_count": 7,
   "metadata": {},
   "outputs": [
    {
     "name": "stdout",
     "output_type": "stream",
     "text": [
      "<article class=\"WikiaMainContent\" id=\"WikiaMainContent\">\n",
      "<div class=\"WikiaMainContentContainer\" id=\"WikiaMainContentContainer\">\n",
      "<div class=\"WikiaArticle\" id=\"WikiaArticle\">\n",
      "<div class=\"home-top-right-ads\">\n",
      "<div id=\"top-right-boxad-wrapper\">\n",
      "<!-- BEGIN SLOTNAME: top_boxad -->\n",
      "<div class=\"wikia-ad noprint default-height\" id=\"top_boxad\">\n",
      "<script>\n",
      "\t\t\t\t\t\t\t\t\twindow.adslots2.push([\"top_boxad\"]);\n",
      "\t\t\t\t\t\t\t</script>\n",
      "</div>\n",
      "<!-- END SLOTNAME: top_boxad -->\n",
      "</div>\n",
      "</div>\n",
      "<div class=\"mw-content-ltr mw-content-text\" dir=\"ltr\" id=\"mw-content-text\" lang=\"en\"><div class=\"main-page-tag-lcs main-page-tag-lcs-exploded\"><div class=\"lcs-container\">\n",
      "<div class=\"panel\">\n",
      "<p style=\"font-size:200%;margin:0;padding:0;\">Welcome to <span style=\"color:#FFD942\"><b>Memory Alpha</b></span>!</p>\n",
      "<p><i><b>Memory Alpha</b></i> is a collaborative project to create the most definitive, accurate, and accessible encyclopedia and reference for everything related to <i><a href=\"/wiki/Star_Trek\" title=\"Star Trek\">Star Trek</a></i>. The English-language <i>Memory Alpha</i> started in November 2003, and currently consists of <a href=\"/wiki/Special:AllPages\" title=\"Special:AllPages\">48,195 articles</a>. If this is your first visit, please read <a href=\"/wiki/Memory_Alpha:Introduction\" title=\"Memory Alpha:Introduction\">an introduction to <i>Memory Alpha</i></a>.</p>\n",
      "<hr>\n",
      "<table cellpadding=\"0\" cellspacing=\"0\" style=\"width: 100%; background: transparent; text-align:center;\">\n",
      "<tr>\n",
      "<td>\n",
      "<p><a class=\"image image-thumbnail link-internal\" href=\"https://mu-memory-alpha.fandom.com/wiki/\" title=\"Mirror Universe\"><img alt=\"Mu-flag\" class=\"lzy lzyPlcHld\" data-image-key=\"Mu-flag.svg\" data-image-name=\"Mu-flag.svg\" data-src=\"https://vignette.wikia.nocookie.net/memoryalpha/images/6/66/Mu-flag.svg/revision/latest/scale-to-width-down/18?cb=20101116183501&amp;path-prefix=en\" height=\"12\" onload=\"if(typeof ImgLzy==='object'){ImgLzy.load(this)}\" src=\"data:image/gif;base64,R0lGODlhAQABAIABAAAAAP///yH5BAEAAAEALAAAAAABAAEAQAICTAEAOw%3D%3D\" width=\"18\"/><noscript><img alt=\"Mu-flag\" class=\"\" data-image-key=\"Mu-flag.svg\" data-image-name=\"Mu-flag.svg\" height=\"12\" src=\"https://vignette.wikia.nocookie.net/memoryalpha/images/6/66/Mu-flag.svg/revision/latest/scale-to-width-down/18?cb=20101116183501&amp;path-prefix=en\" width=\"18\"/></noscript></a> •\n",
      "<a class=\"image image-thumbnail link-internal\" href=\"https://memory-alpha.fandom.com/bg/wiki/\" title=\"Български\"><img alt=\"Bg-flag\" class=\"lzy lzyPlcHld\" data-image-key=\"Bg-flag.svg\" data-image-name=\"Bg-flag.svg\" data-src=\"https://vignette.wikia.nocookie.net/memoryalpha/images/d/d4/Bg-flag.svg/revision/latest/scale-to-width-down/18?cb=20101111064010&amp;path-prefix=en\" height=\"11\" onload=\"if(typeof ImgLzy==='object'){ImgLzy.load(this)}\" src=\"data:image/gif;base64,R0lGODlhAQABAIABAAAAAP///yH5BAEAAAEALAAAAAABAAEAQAICTAEAOw%3D%3D\" width=\"18\"/><noscript><img alt=\"Bg-flag\" class=\"\" data-image-key=\"Bg-flag.svg\" data-image-name=\"Bg-flag.svg\" height=\"11\" src=\"https://vignette.wikia.nocookie.net/memoryalpha/images/d/d4/Bg-flag.svg/revision/latest/scale-to-width-down/18?cb=20101111064010&amp;path-prefix=en\" width=\"18\"/></noscript></a> •\n",
      "<a class=\"image image-thumbnail link-internal\" href=\"https://memory-alpha.fandom.com/ca/wiki/\" title=\"Català\"><img alt=\"Ca-flag\" class=\"lzy lzyPlcHld\" data-image-key=\"Ca-flag.svg\" data-image-name=\"Ca-flag.svg\" data-src=\"https://vignette.wikia.nocookie.net/memoryalpha/images/5/52/Ca-flag.svg/revision/latest/scale-to-width-down/18?cb=20110202133527&amp;path-prefix=en\" height=\"12\" onload=\"if(typeof ImgLzy==='object'){ImgLzy.load(this)}\" src=\"data:image/gif;base64,R0lGODlhAQABAIABAAAAAP///yH5BAEAAAEALAAAAAABAAEAQAICTAEAOw%3D%3D\" width=\"18\"/><noscript><img alt=\"Ca-flag\" class=\"\" data-image-key=\"Ca-flag.svg\" data-image-name=\"Ca-flag.svg\" height=\"12\" src=\"https://vignette.wikia.nocookie.net/memoryalpha/images/5/52/Ca-flag.svg/revision/latest/scale-to-width-down/18?cb=20110202133527&amp;path-prefix=en\" width=\"18\"/></noscript></a> •\n",
      "<a class=\"image image-thumbnail link-internal\" href=\"https://memory-alpha.fandom.com/cs/wiki/\" title=\"Česky\"><img alt=\"Cs-flag\" class=\"lzy lzyPlcHld\" data-image-key=\"Cs-flag.svg\" data-image-name=\"Cs-flag.svg\" data-src=\"https://vignette.wikia.nocookie.net/memoryalpha/images/b/b9/Cs-flag.svg/revision/latest/scale-to-width-down/18?cb=20101111064138&amp;path-prefix=en\" height=\"12\" onload=\"if(typeof ImgLzy==='object'){ImgLzy.load(this)}\" src=\"data:image/gif;base64,R0lGODlhAQABAIABAAAAAP///yH5BAEAAAEALAAAAAABAAEAQAICTAEAOw%3D%3D\" width=\"18\"/><noscript><img alt=\"Cs-flag\" class=\"\" data-image-key=\"Cs-flag.svg\" data-image-name=\"Cs-flag.svg\" height=\"12\" src=\"https://vignette.wikia.nocookie.net/memoryalpha/images/b/b9/Cs-flag.svg/revision/latest/scale-to-width-down/18?cb=20101111064138&amp;path-prefix=en\" width=\"18\"/></noscript></a> •\n",
      "<a class=\"image image-thumbnail link-internal\" href=\"https://memory-alpha.fandom.com/de/wiki/\" title=\"Deutsch\"><img alt=\"De-flag\" class=\"lzy lzyPlcHld\" data-image-key=\"De-flag.svg\" data-image-name=\"De-flag.svg\" data-src=\"https://vignette.wikia.nocookie.net/memoryalpha/images/8/88/De-flag.svg/revision/latest/scale-to-width-down/18?cb=20101111052453&amp;path-prefix=en\" height=\"11\" onload=\"if(typeof ImgLzy==='object'){ImgLzy.load(this)}\" src=\"data:image/gif;base64,R0lGODlhAQABAIABAAAAAP///yH5BAEAAAEALAAAAAABAAEAQAICTAEAOw%3D%3D\" width=\"18\"/><noscript><img alt=\"De-flag\" class=\"\" data-image-key=\"De-flag.svg\" data-image-name=\"De-flag.svg\" height=\"11\" src=\"https://vignette.wikia.nocookie.net/memoryalpha/images/8/88/De-flag.svg/revision/latest/scale-to-width-down/18?cb=20101111052453&amp;path-prefix=en\" width=\"18\"/></noscript></a> •\n",
      "<a class=\"image image-thumbnail link-internal\" href=\"https://memory-alpha.fandom.com/eo/wiki/\" title=\"Esperanto\"><img alt=\"Eo-flag\" class=\"lzy lzyPlcHld\" data-image-key=\"Eo-flag.svg\" data-image-name=\"Eo-flag.svg\" data-src=\"https://vignette.wikia.nocookie.net/memoryalpha/images/3/37/Eo-flag.svg/revision/latest/scale-to-width-down/18?cb=20101111065115&amp;path-prefix=en\" height=\"12\" onload=\"if(typeof ImgLzy==='object'){ImgLzy.load(this)}\" src=\"data:image/gif;base64,R0lGODlhAQABAIABAAAAAP///yH5BAEAAAEALAAAAAABAAEAQAICTAEAOw%3D%3D\" width=\"18\"/><noscript><img alt=\"Eo-flag\" class=\"\" data-image-key=\"Eo-flag.svg\" data-image-name=\"Eo-flag.svg\" height=\"12\" src=\"https://vignette.wikia.nocookie.net/memoryalpha/images/3/37/Eo-flag.svg/revision/latest/scale-to-width-down/18?cb=20101111065115&amp;path-prefix=en\" width=\"18\"/></noscript></a> •\n",
      "<a class=\"image image-thumbnail link-internal\" href=\"https://memory-alpha.fandom.com/es/wiki/\" title=\"Español\"><img alt=\"Es-flag\" class=\"lzy lzyPlcHld\" data-image-key=\"Es-flag.svg\" data-image-name=\"Es-flag.svg\" data-src=\"https://vignette.wikia.nocookie.net/memoryalpha/images/c/c5/Es-flag.svg/revision/latest/scale-to-width-down/18?cb=20101111052354&amp;path-prefix=en\" height=\"12\" onload=\"if(typeof ImgLzy==='object'){ImgLzy.load(this)}\" src=\"data:image/gif;base64,R0lGODlhAQABAIABAAAAAP///yH5BAEAAAEALAAAAAABAAEAQAICTAEAOw%3D%3D\" width=\"18\"/><noscript><img alt=\"Es-flag\" class=\"\" data-image-key=\"Es-flag.svg\" data-image-name=\"Es-flag.svg\" height=\"12\" src=\"https://vignette.wikia.nocookie.net/memoryalpha/images/c/c5/Es-flag.svg/revision/latest/scale-to-width-down/18?cb=20101111052354&amp;path-prefix=en\" width=\"18\"/></noscript></a> •\n",
      "<a class=\"image image-thumbnail link-internal\" href=\"https://memory-alpha.fandom.com/fr/wiki/\" title=\"Français\"><img alt=\"Fr-flag\" class=\"lzy lzyPlcHld\" data-image-key=\"Fr-flag.svg\" data-image-name=\"Fr-flag.svg\" data-src=\"https://vignette.wikia.nocookie.net/memoryalpha/images/5/51/Fr-flag.svg/revision/latest/scale-to-width-down/18?cb=20101111052019&amp;path-prefix=en\" height=\"12\" onload=\"if(typeof ImgLzy==='object'){ImgLzy.load(this)}\" src=\"data:image/gif;base64,R0lGODlhAQABAIABAAAAAP///yH5BAEAAAEALAAAAAABAAEAQAICTAEAOw%3D%3D\" width=\"18\"/><noscript><img alt=\"Fr-flag\" class=\"\" data-image-key=\"Fr-flag.svg\" data-image-name=\"Fr-flag.svg\" height=\"12\" src=\"https://vignette.wikia.nocookie.net/memoryalpha/images/5/51/Fr-flag.svg/revision/latest/scale-to-width-down/18?cb=20101111052019&amp;path-prefix=en\" width=\"18\"/></noscript></a> •\n",
      "<a class=\"image image-thumbnail link-internal\" href=\"https://memory-alpha.fandom.com/it/wiki/\" title=\"Italiano\"><img alt=\"It-flag\" class=\"lzy lzyPlcHld\" data-image-key=\"It-flag.svg\" data-image-name=\"It-flag.svg\" data-src=\"https://vignette.wikia.nocookie.net/memoryalpha/images/7/7b/It-flag.svg/revision/latest/scale-to-width-down/18?cb=20101111061410&amp;path-prefix=en\" height=\"12\" onload=\"if(typeof ImgLzy==='object'){ImgLzy.load(this)}\" src=\"data:image/gif;base64,R0lGODlhAQABAIABAAAAAP///yH5BAEAAAEALAAAAAABAAEAQAICTAEAOw%3D%3D\" width=\"18\"/><noscript><img alt=\"It-flag\" class=\"\" data-image-key=\"It-flag.svg\" data-image-name=\"It-flag.svg\" height=\"12\" src=\"https://vignette.wikia.nocookie.net/memoryalpha/images/7/7b/It-flag.svg/revision/latest/scale-to-width-down/18?cb=20101111061410&amp;path-prefix=en\" width=\"18\"/></noscript></a> •\n",
      "<a class=\"image image-thumbnail link-internal\" href=\"https://memory-alpha.fandom.com/ja/wiki/\" title=\"日本語\"><img alt=\"Ja-flag\" class=\"lzy lzyPlcHld\" data-image-key=\"Ja-flag.svg\" data-image-name=\"Ja-flag.svg\" data-src=\"https://vignette.wikia.nocookie.net/memoryalpha/images/6/66/Ja-flag.svg/revision/latest/scale-to-width-down/18?cb=20101111061559&amp;path-prefix=en\" height=\"12\" onload=\"if(typeof ImgLzy==='object'){ImgLzy.load(this)}\" src=\"data:image/gif;base64,R0lGODlhAQABAIABAAAAAP///yH5BAEAAAEALAAAAAABAAEAQAICTAEAOw%3D%3D\" width=\"18\"/><noscript><img alt=\"Ja-flag\" class=\"\" data-image-key=\"Ja-flag.svg\" data-image-name=\"Ja-flag.svg\" height=\"12\" src=\"https://vignette.wikia.nocookie.net/memoryalpha/images/6/66/Ja-flag.svg/revision/latest/scale-to-width-down/18?cb=20101111061559&amp;path-prefix=en\" width=\"18\"/></noscript></a> •\n",
      "<a class=\"image image-thumbnail link-internal\" href=\"https://memory-alpha.fandom.com/nl/wiki/\" title=\"Nederlands\"><img alt=\"Nl-flag\" class=\"lzy lzyPlcHld\" data-image-key=\"Nl-flag.svg\" data-image-name=\"Nl-flag.svg\" data-src=\"https://vignette.wikia.nocookie.net/memoryalpha/images/e/e3/Nl-flag.svg/revision/latest/scale-to-width-down/18?cb=20101111052739&amp;path-prefix=en\" height=\"12\" onload=\"if(typeof ImgLzy==='object'){ImgLzy.load(this)}\" src=\"data:image/gif;base64,R0lGODlhAQABAIABAAAAAP///yH5BAEAAAEALAAAAAABAAEAQAICTAEAOw%3D%3D\" width=\"18\"/><noscript><img alt=\"Nl-flag\" class=\"\" data-image-key=\"Nl-flag.svg\" data-image-name=\"Nl-flag.svg\" height=\"12\" src=\"https://vignette.wikia.nocookie.net/memoryalpha/images/e/e3/Nl-flag.svg/revision/latest/scale-to-width-down/18?cb=20101111052739&amp;path-prefix=en\" width=\"18\"/></noscript></a> •\n",
      "<a class=\"image image-thumbnail link-internal\" href=\"https://memory-alpha.fandom.com/pl/wiki/\" title=\"Polski\"><img alt=\"Pl-flag\" class=\"lzy lzyPlcHld\" data-image-key=\"Pl-flag.svg\" data-image-name=\"Pl-flag.svg\" data-src=\"https://vignette.wikia.nocookie.net/memoryalpha/images/f/f3/Pl-flag.svg/revision/latest/scale-to-width-down/18?cb=20101111064302&amp;path-prefix=en\" height=\"11\" onload=\"if(typeof ImgLzy==='object'){ImgLzy.load(this)}\" src=\"data:image/gif;base64,R0lGODlhAQABAIABAAAAAP///yH5BAEAAAEALAAAAAABAAEAQAICTAEAOw%3D%3D\" width=\"18\"/><noscript><img alt=\"Pl-flag\" class=\"\" data-image-key=\"Pl-flag.svg\" data-image-name=\"Pl-flag.svg\" height=\"11\" src=\"https://vignette.wikia.nocookie.net/memoryalpha/images/f/f3/Pl-flag.svg/revision/latest/scale-to-width-down/18?cb=20101111064302&amp;path-prefix=en\" width=\"18\"/></noscript></a> •\n",
      "<a class=\"image image-thumbnail link-internal\" href=\"http://pt.memory-alpha.org/wiki/\" title=\"Português\"><img alt=\"Pt-flag\" class=\"lzy lzyPlcHld\" data-image-key=\"Pt-flag.svg\" data-image-name=\"Pt-flag.svg\" data-src=\"https://vignette.wikia.nocookie.net/memoryalpha/images/4/44/Pt-flag.svg/revision/latest/scale-to-width-down/18?cb=20101111064802&amp;path-prefix=en\" height=\"12\" onload=\"if(typeof ImgLzy==='object'){ImgLzy.load(this)}\" src=\"data:image/gif;base64,R0lGODlhAQABAIABAAAAAP///yH5BAEAAAEALAAAAAABAAEAQAICTAEAOw%3D%3D\" width=\"18\"/><noscript><img alt=\"Pt-flag\" class=\"\" data-image-key=\"Pt-flag.svg\" data-image-name=\"Pt-flag.svg\" height=\"12\" src=\"https://vignette.wikia.nocookie.net/memoryalpha/images/4/44/Pt-flag.svg/revision/latest/scale-to-width-down/18?cb=20101111064802&amp;path-prefix=en\" width=\"18\"/></noscript></a> •\n",
      "<a class=\"image image-thumbnail link-internal\" href=\"https://memory-alpha.fandom.com/ro/wiki/\" title=\"Română\"><img alt=\"Ro-flag\" class=\"lzy lzyPlcHld\" data-image-key=\"Ro-flag.svg\" data-image-name=\"Ro-flag.svg\" data-src=\"https://vignette.wikia.nocookie.net/memoryalpha/images/8/8f/Ro-flag.svg/revision/latest/scale-to-width-down/18?cb=20101111071524&amp;path-prefix=en\" height=\"12\" onload=\"if(typeof ImgLzy==='object'){ImgLzy.load(this)}\" src=\"data:image/gif;base64,R0lGODlhAQABAIABAAAAAP///yH5BAEAAAEALAAAAAABAAEAQAICTAEAOw%3D%3D\" width=\"18\"/><noscript><img alt=\"Ro-flag\" class=\"\" data-image-key=\"Ro-flag.svg\" data-image-name=\"Ro-flag.svg\" height=\"12\" src=\"https://vignette.wikia.nocookie.net/memoryalpha/images/8/8f/Ro-flag.svg/revision/latest/scale-to-width-down/18?cb=20101111071524&amp;path-prefix=en\" width=\"18\"/></noscript></a> •\n",
      "<a class=\"image image-thumbnail link-internal\" href=\"https://memory-alpha.fandom.com/ru/wiki/\" title=\"Русский\"><img alt=\"Ru-flag\" class=\"lzy lzyPlcHld\" data-image-key=\"Ru-flag.svg\" data-image-name=\"Ru-flag.svg\" data-src=\"https://vignette.wikia.nocookie.net/memoryalpha/images/6/6a/Ru-flag.svg/revision/latest/scale-to-width-down/18?cb=20101111064358&amp;path-prefix=en\" height=\"12\" onload=\"if(typeof ImgLzy==='object'){ImgLzy.load(this)}\" src=\"data:image/gif;base64,R0lGODlhAQABAIABAAAAAP///yH5BAEAAAEALAAAAAABAAEAQAICTAEAOw%3D%3D\" width=\"18\"/><noscript><img alt=\"Ru-flag\" class=\"\" data-image-key=\"Ru-flag.svg\" data-image-name=\"Ru-flag.svg\" height=\"12\" src=\"https://vignette.wikia.nocookie.net/memoryalpha/images/6/6a/Ru-flag.svg/revision/latest/scale-to-width-down/18?cb=20101111064358&amp;path-prefix=en\" width=\"18\"/></noscript></a> •\n",
      "<a class=\"image image-thumbnail link-internal\" href=\"https://memory-alpha.fandom.com/sr/wiki/\" title=\"Српски / Srpski\"><img alt=\"Sr-flag\" class=\"lzy lzyPlcHld\" data-image-key=\"Sr-flag.svg\" data-image-name=\"Sr-flag.svg\" data-src=\"https://vignette.wikia.nocookie.net/memoryalpha/images/a/a7/Sr-flag.svg/revision/latest/scale-to-width-down/18?cb=20101111064516&amp;path-prefix=en\" height=\"12\" onload=\"if(typeof ImgLzy==='object'){ImgLzy.load(this)}\" src=\"data:image/gif;base64,R0lGODlhAQABAIABAAAAAP///yH5BAEAAAEALAAAAAABAAEAQAICTAEAOw%3D%3D\" width=\"18\"/><noscript><img alt=\"Sr-flag\" class=\"\" data-image-key=\"Sr-flag.svg\" data-image-name=\"Sr-flag.svg\" height=\"12\" src=\"https://vignette.wikia.nocookie.net/memoryalpha/images/a/a7/Sr-flag.svg/revision/latest/scale-to-width-down/18?cb=20101111064516&amp;path-prefix=en\" width=\"18\"/></noscript></a> • \n",
      "<a class=\"image image-thumbnail link-internal\" href=\"https://memory-alpha.fandom.com/sv/wiki/\" title=\"Svenska\"><img alt=\"Sv-flag\" class=\"lzy lzyPlcHld\" data-image-key=\"Sv-flag.svg\" data-image-name=\"Sv-flag.svg\" data-src=\"https://vignette.wikia.nocookie.net/memoryalpha/images/2/21/Sv-flag.svg/revision/latest/scale-to-width-down/18?cb=20101111064605&amp;path-prefix=en\" height=\"11\" onload=\"if(typeof ImgLzy==='object'){ImgLzy.load(this)}\" src=\"data:image/gif;base64,R0lGODlhAQABAIABAAAAAP///yH5BAEAAAEALAAAAAABAAEAQAICTAEAOw%3D%3D\" width=\"18\"/><noscript><img alt=\"Sv-flag\" class=\"\" data-image-key=\"Sv-flag.svg\" data-image-name=\"Sv-flag.svg\" height=\"11\" src=\"https://vignette.wikia.nocookie.net/memoryalpha/images/2/21/Sv-flag.svg/revision/latest/scale-to-width-down/18?cb=20101111064605&amp;path-prefix=en\" width=\"18\"/></noscript></a> • \n",
      "<a class=\"image image-thumbnail link-internal\" href=\"http://zh-cn.memory-alpha.org/wiki/\" title=\"‪中文(中国大陆)‬\"><img alt=\"Zh-flag\" class=\"lzy lzyPlcHld\" data-image-key=\"Zh-flag.svg\" data-image-name=\"Zh-flag.svg\" data-src=\"https://vignette.wikia.nocookie.net/memoryalpha/images/1/13/Zh-flag.svg/revision/latest/scale-to-width-down/18?cb=20101111064714&amp;path-prefix=en\" height=\"12\" onload=\"if(typeof ImgLzy==='object'){ImgLzy.load(this)}\" src=\"data:image/gif;base64,R0lGODlhAQABAIABAAAAAP///yH5BAEAAAEALAAAAAABAAEAQAICTAEAOw%3D%3D\" width=\"18\"/><noscript><img alt=\"Zh-flag\" class=\"\" data-image-key=\"Zh-flag.svg\" data-image-name=\"Zh-flag.svg\" height=\"12\" src=\"https://vignette.wikia.nocookie.net/memoryalpha/images/1/13/Zh-flag.svg/revision/latest/scale-to-width-down/18?cb=20101111064714&amp;path-prefix=en\" width=\"18\"/></noscript></a> • \n",
      "<a class=\"image image-thumbnail link-internal\" href=\"/wiki/Memory_Alpha:Start_a_new_edition_in_another_language\" title=\"Start a new edition in another language!\"><img alt=\"Geography logo\" class=\"lzy lzyPlcHld\" data-image-key=\"Geography_logo.svg\" data-image-name=\"Geography logo.svg\" data-src=\"https://vignette.wikia.nocookie.net/memoryalpha/images/f/fe/Geography_logo.svg/revision/latest/scale-to-width-down/18?cb=20080405063206&amp;path-prefix=en\" height=\"18\" onload=\"if(typeof ImgLzy==='object'){ImgLzy.load(this)}\" src=\"data:image/gif;base64,R0lGODlhAQABAIABAAAAAP///yH5BAEAAAEALAAAAAABAAEAQAICTAEAOw%3D%3D\" width=\"18\"/><noscript><img alt=\"Geography logo\" class=\"\" data-image-key=\"Geography_logo.svg\" data-image-name=\"Geography logo.svg\" height=\"18\" src=\"https://vignette.wikia.nocookie.net/memoryalpha/images/f/fe/Geography_logo.svg/revision/latest/scale-to-width-down/18?cb=20080405063206&amp;path-prefix=en\" width=\"18\"/></noscript></a>\n",
      "</p>\n",
      "</td></tr></table>\n",
      "</hr></div>\n",
      "<div class=\"panel\" style=\"background: #000; border: 1px solid #666;\">\n",
      "<table cellpadding=\"5\" id=\"spoiler\" style=\"margin: 0 auto; width:100%; text-align:center;\">\n",
      "<tr>\n",
      "<th> <i><b>Warning</b>: <a class=\"mw-redirect\" href=\"/wiki/MA:SPOILER\" title=\"MA:SPOILER\">Memory Alpha contains spoilers!</a></i>\n",
      "</th></tr>\n",
      "<tr>\n",
      "<td style=\"margin: 0.5em 0; border: 1px outset #66CC00; padding:0.5em;\"> <span class=\"mw-customtoggle-ST\" style=\"color:#66CC00; cursor:row-resize;\" title=\"Click to expand or collapse\"><font size=\"+1\"><i><b>Star Trek: Short Treks</b></i></font></span>\n",
      "<div class=\"mw-collapsible mw-collapsed\" id=\"mw-customcollapsible-ST\">\n",
      "<table style=\"width:100%;\">\n",
      "<tr>\n",
      "<td rowspan=\"2\" style=\"width:10%;\"> <a class=\"image image-thumbnail link-internal\" href=\"/wiki/Star_Trek:_Short_Treks\" title=\"Star Trek: Short Treks\"><img alt=\"ST head\" class=\"lzy lzyPlcHld\" data-image-key=\"ST_head.png\" data-image-name=\"ST head.png\" data-src=\"https://vignette.wikia.nocookie.net/memoryalpha/images/0/0b/ST_head.png/revision/latest/scale-to-width-down/125?cb=20191009152437&amp;path-prefix=en\" height=\"36\" onload=\"if(typeof ImgLzy==='object'){ImgLzy.load(this)}\" src=\"data:image/gif;base64,R0lGODlhAQABAIABAAAAAP///yH5BAEAAAEALAAAAAABAAEAQAICTAEAOw%3D%3D\" width=\"125\"/><noscript><img alt=\"ST head\" class=\"\" data-image-key=\"ST_head.png\" data-image-name=\"ST head.png\" height=\"36\" src=\"https://vignette.wikia.nocookie.net/memoryalpha/images/0/0b/ST_head.png/revision/latest/scale-to-width-down/125?cb=20191009152437&amp;path-prefix=en\" width=\"125\"/></noscript></a>\n",
      "</td><td style=\"width:45%;\"> <a class=\"mw-redirect\" href=\"/wiki/ST_Season_1\" title=\"ST Season 1\">Season 1</a>\n",
      "</td><td style=\"width:45%;\"> <a class=\"mw-redirect\" href=\"/wiki/ST_Season_2\" title=\"ST Season 2\">Season 2</a>\n",
      "</td></tr>\n",
      "<tr>\n",
      "<td> <a href=\"/wiki/Runaway_(episode)\" title=\"Runaway (episode)\">1</a> • <a href=\"/wiki/Calypso_(episode)\" title=\"Calypso (episode)\">2</a> • <a href=\"/wiki/The_Brightest_Star_(episode)\" title=\"The Brightest Star (episode)\">3</a> • <a href=\"/wiki/The_Escape_Artist_(episode)\" title=\"The Escape Artist (episode)\">4</a>\n",
      "</td><td> <a href=\"/wiki/Q%26A_(episode)\" title=\"Q&amp;A (episode)\">1</a> • <a href=\"/wiki/The_Trouble_with_Edward_(episode)\" title=\"The Trouble with Edward (episode)\">2</a> • <a href=\"/wiki/Ask_Not_(episode)\" title=\"Ask Not (episode)\">3</a> • <a href=\"/wiki/The_Girl_Who_Made_the_Stars_(episode)\" title=\"The Girl Who Made the Stars (episode)\">4</a> • <a href=\"/wiki/Ephraim_and_Dot_(episode)\" title=\"Ephraim and Dot (episode)\">5</a> • <a href=\"/wiki/Children_of_Mars_(episode)\" title=\"Children of Mars (episode)\">6</a>\n",
      "</td></tr></table></div>\n",
      "</td></tr>\n",
      "<tr>\n",
      "<td style=\"margin: 0.5em 0; border: 1px outset #AD722C; padding:0.5em;\"> <span class=\"mw-customtoggle-PIC\" style=\"color:#AD722C; cursor:row-resize;\" title=\"Click to expand or collapse\"><font size=\"+1\"><i><b>Star Trek: Picard</b></i></font></span>\n",
      "<div class=\"mw-collapsible\" id=\"mw-customcollapsible-PIC\">\n",
      "<table style=\"width:100%;\">\n",
      "<tr>\n",
      "<td style=\"width:30%;\"> <b><a href=\"/wiki/20_February\" title=\"20 February\">20 February</a></b>\n",
      "</td><td style=\"width:30%;\"> <b><a href=\"/wiki/27_February\" title=\"27 February\">27 February</a></b>\n",
      "</td><td style=\"width:30%;\"> <b><a href=\"/wiki/5_March\" title=\"5 March\">5 March</a></b>\n",
      "</td><td rowspan=\"4\" style=\"width:10%;\"> <a class=\"image image-thumbnail link-internal\" href=\"/wiki/Star_Trek:_Picard\" title=\"Star Trek: Picard\"><img alt=\"PIC head\" class=\"lzy lzyPlcHld\" data-image-key=\"PIC_head.png\" data-image-name=\"PIC head.png\" data-src=\"https://vignette.wikia.nocookie.net/memoryalpha/images/6/6f/PIC_head.png/revision/latest/scale-to-width-down/125?cb=20200131160805&amp;path-prefix=en\" height=\"48\" onload=\"if(typeof ImgLzy==='object'){ImgLzy.load(this)}\" src=\"data:image/gif;base64,R0lGODlhAQABAIABAAAAAP///yH5BAEAAAEALAAAAAABAAEAQAICTAEAOw%3D%3D\" width=\"125\"/><noscript><img alt=\"PIC head\" class=\"\" data-image-key=\"PIC_head.png\" data-image-name=\"PIC head.png\" height=\"48\" src=\"https://vignette.wikia.nocookie.net/memoryalpha/images/6/6f/PIC_head.png/revision/latest/scale-to-width-down/125?cb=20200131160805&amp;path-prefix=en\" width=\"125\"/></noscript></a>\n",
      "</td></tr>\n",
      "<tr valign=\"top\">\n",
      "<td> \"<a href=\"/wiki/Stardust_City_Rag_(episode)\" title=\"Stardust City Rag (episode)\"><span style=\"cursor: help;\" title=\"Stardust City Rag (PIC 1x05)\">Stardust City Rag</span></a>\"\n",
      "</td><td> \"<a href=\"/wiki/The_Impossible_Box_(episode)\" title=\"The Impossible Box (episode)\"><span style=\"cursor: help;\" title=\"The Impossible Box (PIC 1x06)\">The Impossible Box</span></a>\"\n",
      "</td><td> \"<a href=\"/wiki/Nepenthe_(episode)\" title=\"Nepenthe (episode)\"><span style=\"cursor: help;\" title=\"Nepenthe (PIC 1x07)\">Nepenthe</span></a>\"\n",
      "</td></tr>\n",
      "<tr valign=\"top\">\n",
      "<td colspan=\"3\"> <a href=\"/wiki/Jean-Luc_Picard\" title=\"Jean-Luc Picard\">Picard</a> • <a href=\"/wiki/Seven_of_Nine\" title=\"Seven of Nine\">Seven of Nine</a> • <a href=\"/wiki/Icheb\" title=\"Icheb\">Icheb‎‎</a> • <a href=\"/wiki/Bruce_Maddox\" title=\"Bruce Maddox\">Bruce Maddox</a> • <a href=\"/wiki/Bjayzl\" title=\"Bjayzl\">Bjayzl</a> • <a href=\"/wiki/Vup\" title=\"Vup\">Vup</a> • <a href=\"/wiki/Gabriel_Hwang\" title=\"Gabriel Hwang\">Gabriel Hwang</a>\n",
      "</td></tr>\n",
      "<tr>\n",
      "<td colspan=\"3\"> <a class=\"mw-redirect\" href=\"/wiki/Aftershow\" title=\"Aftershow\">Aftershow</a>: <i><a href=\"/wiki/The_Ready_Room\" title=\"The Ready Room\">The Ready Room</a></i> - \"<a href=\"/wiki/The_Impossible_Box_(aftershow)\" title=\"The Impossible Box (aftershow)\"><span style=\"cursor: help;\" title=\"The Impossible Box aftershow (TRR 2x06)\">The Impossible Box</span></a>\"\n",
      "</td></tr></table></div>\n",
      "</td></tr>\n",
      "<tr>\n",
      "<td style=\"margin: 0.5em 0; border: 1px outset #5B1414; padding:0.5em;\"> <span class=\"mw-customtoggle-DIS\" style=\"color:#5B1414; cursor:row-resize;\" title=\"Click to expand or collapse\"><font size=\"+1\"><i><b>Star Trek: Discovery</b></i></font></span>\n",
      "<div class=\"mw-collapsible mw-collapsed\" id=\"mw-customcollapsible-DIS\">\n",
      "<table style=\"width:100%;\">\n",
      "<tr>\n",
      "<td rowspan=\"4\" style=\"width:10%;\"> <a class=\"image image-thumbnail link-internal\" href=\"/wiki/Star_Trek:_Discovery\" title=\"Star Trek: Discovery\"><img alt=\"DIS head\" class=\"lzy lzyPlcHld\" data-image-key=\"DIS_head.png\" data-image-name=\"DIS head.png\" data-src=\"https://vignette.wikia.nocookie.net/memoryalpha/images/8/83/DIS_head.png/revision/latest/scale-to-width-down/125?cb=20171214091157&amp;path-prefix=en\" height=\"40\" onload=\"if(typeof ImgLzy==='object'){ImgLzy.load(this)}\" src=\"data:image/gif;base64,R0lGODlhAQABAIABAAAAAP///yH5BAEAAAEALAAAAAABAAEAQAICTAEAOw%3D%3D\" width=\"125\"/><noscript><img alt=\"DIS head\" class=\"\" data-image-key=\"DIS_head.png\" data-image-name=\"DIS head.png\" height=\"40\" src=\"https://vignette.wikia.nocookie.net/memoryalpha/images/8/83/DIS_head.png/revision/latest/scale-to-width-down/125?cb=20171214091157&amp;path-prefix=en\" width=\"125\"/></noscript></a>\n",
      "</td><td style=\"width:30%;\"> <b><a href=\"/wiki/2017_(production)\" title=\"2017 (production)\">2017</a>–<a href=\"/wiki/2018_(production)\" title=\"2018 (production)\">2018</a></b>\n",
      "</td><td style=\"width:30%;\"> <b><a href=\"/wiki/2019_(production)\" title=\"2019 (production)\">2019</a></b>\n",
      "</td><td style=\"width:30%;\"> <b>In production - <a href=\"/wiki/2020_(production)\" title=\"2020 (production)\">2020</a></b>\n",
      "</td></tr>\n",
      "<tr>\n",
      "<td> <a href=\"/wiki/DIS_Season_1\" title=\"DIS Season 1\">Season 1</a>\n",
      "</td><td> <a href=\"/wiki/DIS_Season_2\" title=\"DIS Season 2\">Season 2</a>\n",
      "</td><td> <a href=\"/wiki/DIS_Season_3\" title=\"DIS Season 3\">Season 3</a>\n",
      "</td></tr>\n",
      "<tr>\n",
      "<td colspan=\"3\"> <a href=\"/wiki/Michael_Burnham\" title=\"Michael Burnham\">Michael Burnham</a> • <a href=\"/wiki/Christopher_Pike\" title=\"Christopher Pike\">Christopher Pike</a> • <a href=\"/wiki/USS_Discovery\" title=\"USS Discovery\">USS <i>Discovery</i></a> • <a href=\"/wiki/Red_Angel\" title=\"Red Angel\">Red Angel</a> • <a href=\"/wiki/Section_31\" title=\"Section 31\">Section 31</a> • <a href=\"/wiki/Control\" title=\"Control\">Control</a> • <a href=\"/wiki/Time_travel\" title=\"Time travel\">time travel</a>\n",
      "</td></tr>\n",
      "<tr>\n",
      "<td colspan=\"3\"> <a class=\"mw-redirect\" href=\"/wiki/Aftershow\" title=\"Aftershow\">Aftershows</a>: <i><a href=\"/wiki/After_Trek\" title=\"After Trek\">After Trek</a></i> • <i><a href=\"/wiki/The_Ready_Room\" title=\"The Ready Room\">The Ready Room</a></i>\n",
      "</td></tr></table></div>\n",
      "</td></tr>\n",
      "<tr>\n",
      "<td style=\"margin: 0.5em 0; border: 1px outset #112959; padding:0.5em;\"> <span class=\"mw-customtoggle-LD\" style=\"color:#112959; cursor:row-resize;\" title=\"Click to expand or collapse\"><font size=\"+1\"><i><b>Star Trek: Lower Decks</b></i></font></span>\n",
      "<div class=\"mw-collapsible mw-collapsed\" id=\"mw-customcollapsible-LD\">\n",
      "<table style=\"width:100%;\">\n",
      "<tr>\n",
      "<td colspan=\"3\"> <b>In production</b> - 2020\n",
      "</td><td rowspan=\"4\" style=\"width:10%;\"> <a class=\"image image-thumbnail link-internal\" href=\"/wiki/Star_Trek:_Lower_Decks\" title=\"Star Trek: Lower Decks\"><img alt=\"LD head\" class=\"lzy lzyPlcHld\" data-image-key=\"LD_head.png\" data-image-name=\"LD head.png\" data-src=\"https://vignette.wikia.nocookie.net/memoryalpha/images/6/64/LD_head.png/revision/latest/scale-to-width-down/125?cb=20190815203647&amp;path-prefix=en\" height=\"31\" onload=\"if(typeof ImgLzy==='object'){ImgLzy.load(this)}\" src=\"data:image/gif;base64,R0lGODlhAQABAIABAAAAAP///yH5BAEAAAEALAAAAAABAAEAQAICTAEAOw%3D%3D\" width=\"125\"/><noscript><img alt=\"LD head\" class=\"\" data-image-key=\"LD_head.png\" data-image-name=\"LD head.png\" height=\"31\" src=\"https://vignette.wikia.nocookie.net/memoryalpha/images/6/64/LD_head.png/revision/latest/scale-to-width-down/125?cb=20190815203647&amp;path-prefix=en\" width=\"125\"/></noscript></a>\n",
      "</td></tr>\n",
      "<tr valign=\"top\">\n",
      "<td colspan=\"3\"> <a href=\"/wiki/LD_Season_1\" title=\"LD Season 1\">Season 1</a>\n",
      "</td></tr>\n",
      "<tr valign=\"top\">\n",
      "<td colspan=\"3\"> <a href=\"/wiki/Eugene_Cordero\" title=\"Eugene Cordero\">Eugene Cordero</a> • <a href=\"/wiki/Dawnn_Lewis\" title=\"Dawnn Lewis\">Dawnn Lewis</a> • <a href=\"/wiki/Tawny_Newsome\" title=\"Tawny Newsome\">Tawny Newsome</a> • <a href=\"/wiki/Jerry_O%27Connell\" title=\"Jerry O'Connell\">Jerry O'Connell</a> • <a href=\"/wiki/Jack_Quaid\" title=\"Jack Quaid\">Jack Quaid</a> • <a href=\"/wiki/Fred_Tatasciore\" title=\"Fred Tatasciore\">Fred Tatasciore</a> • <a href=\"/wiki/Gillian_Vigman\" title=\"Gillian Vigman\">Gillian Vigman</a> • <a href=\"/wiki/No%C3%ABl_Wells\" title=\"Noël Wells\">Noël Wells</a>\n",
      "</td></tr></table></div>\n",
      "</td></tr>\n",
      "<tr>\n",
      "<td> <b><a href=\"/wiki/Upcoming_productions\" title=\"Upcoming productions\">Upcoming productions</a>:</b> <a href=\"/wiki/Untitled_animated_series\" title=\"Untitled animated series\">Untitled animated series</a> • <a href=\"/wiki/Untitled_Section_31_series\" title=\"Untitled Section 31 series\">Untitled Section 31 series</a>\n",
      "</td></tr>\n",
      "<tr>\n",
      "<td> <b>Where to watch:</b> <a href=\"/wiki/CBS_All_Access\" title=\"CBS All Access\">CBS All Access</a> (US) • <a class=\"mw-redirect\" href=\"/wiki/Space_(channel)\" title=\"Space (channel)\">Space</a>/<a href=\"/wiki/Z_(channel)\" title=\"Z (channel)\">Z</a> (Canada) • <a href=\"/wiki/Netflix\" title=\"Netflix\">Netflix</a>/<a href=\"/wiki/Amazon_Prime\" title=\"Amazon Prime\">Amazon Prime</a> (elsewhere worldwide)\n",
      "</td></tr>\n",
      "</table></div>\n",
      "<div class=\"panel\" style=\"background: #222; border: 1px solid #666;\">\n",
      "<div style=\"border:2px solid #AAAAAA; background: #282828; font-size: 80% !important; text-align: center; padding: 2px; float: right; font-size: smaller; line-height: 1.4; width: 75px; margin: 10px;\">\n",
      "<div style=\"background: #660000; color: #FFCC00; padding: 2px;\"><b>Today is</b></div>\n",
      "<div style=\"width: 100%\"><b><font color=\"white\">Wednesday</font></b></div>\n",
      "<div style=\"font-size: x-large; width: 100%;\"><a href=\"/wiki/26_February\" title=\"26 February\"><font color=\"white\"><b>26</b></font></a></div>\n",
      "<div style=\"width: 100%;\"> <b><a href=\"/wiki/2020_(production)#February\" title=\"2020 (production)\"><font color=\"white\">Feb</font></a></b> <b><a href=\"/wiki/2020_(production)\" title=\"2020 (production)\"><font color=\"white\">2020</font></a></b></div>\n",
      "</div>\n",
      "<h2><span class=\"mw-headline\" id=\"Latest_news\"> <span class=\"mw-customtoggle-News\" style=\"cursor:row-resize;\" title=\"Click to expand or collapse\">Latest news</span> </span></h2>\n",
      "<div class=\"mw-collapsible\" id=\"mw-customcollapsible-News\"><br/></div><div class=\"mw-collapsible mw-collapsed\" id=\"mw-customcollapsible-News\">\n",
      "<dl><dt>5 February</dt><dd> Veteran actor <a href=\"/wiki/Kevin_Conway\" title=\"Kevin Conway\">Kevin Conway</a>, who portrayed the <a href=\"/wiki/Clone\" title=\"Clone\">clone</a> of <a href=\"/wiki/Kahless_(clone)\" title=\"Kahless (clone)\">Kahless</a> in <a href=\"/wiki/Star_Trek:_The_Next_Generation\" title=\"Star Trek: The Next Generation\"><span style=\"cursor: help;\" title=\"Star Trek: The Next Generation\">TNG</span></a>: \"<a href=\"/wiki/Rightful_Heir_(episode)\" title=\"Rightful Heir (episode)\"><span style=\"cursor: help;\" title=\"Rightful Heir (TNG 6x23)\">Rightful Heir</span></a>\" has passed away at the age of 77. <span class=\"noicon\"><a class=\"external autonumber\" href=\"http://https://www.hollywoodreporter.com/news/kevin-conway-dead-gettysburg-actor-was-77-1277389\" rel=\"nofollow\">[1]</a></span>\n",
      "</dd></dl>\n",
      "<dl><dt>3 February</dt><dd> <i><a href=\"/wiki/Star_Trek:_Voyager\" title=\"Star Trek: Voyager\">Star Trek: Voyager</a></i> and <i><a href=\"/wiki/Star_Trek:_Enterprise\" title=\"Star Trek: Enterprise\">Star Trek: Enterprise</a></i> camera operator and occasional director-of-photography <a href=\"/wiki/Doug_Knapp\" title=\"Doug Knapp\">Doug Knapp</a> has passed away at the age of 70. <span class=\"noicon\"><a class=\"external autonumber\" href=\"http://https://www.hollywoodreporter.com/news/douglas-knapp-dead-cinematographer-camera-operator-john-carpenter-was-70-1276804\" rel=\"nofollow\">[2]</a></span>\n",
      "</dd></dl>\n",
      "<dl><dt>28 January</dt><dd> Actress <a href=\"/wiki/Marj_Dusay\" title=\"Marj Dusay\">Marj Dusay</a>, who played <a href=\"/wiki/Kara_(Eymorg)\" title=\"Kara (Eymorg)\">Kara</a> in <a href=\"/wiki/Star_Trek:_The_Original_Series\" title=\"Star Trek: The Original Series\"><span style=\"cursor: help;\" title=\"Star Trek: The Original Series\">TOS</span></a>: \"<a href=\"/wiki/Spock%27s_Brain_(episode)\" title=\"Spock's Brain (episode)\"><span style=\"cursor: help;\" title=\"Spock's Brain (TOS 3x06)\">Spock's Brain</span></a>\" has passed away at the age of 83. <span class=\"noicon\"><a class=\"external autonumber\" href=\"http://www.hollywoodreporter.com/news/marj-dusay-dead-star-trek-actress-veteran-soap-opera-player-was-83-1274492\" rel=\"nofollow\">[3]</a></span>\n",
      "</dd></dl>\n",
      "<dl><dd>Actress <a href=\"/wiki/Dyanne_Thorne\" title=\"Dyanne Thorne\">Dyanne Thorne</a>, who played an <a class=\"mw-redirect\" href=\"/wiki/Iotian_girl_1\" title=\"Iotian girl 1\">Iotian woman</a> in <a href=\"/wiki/Star_Trek:_The_Original_Series\" title=\"Star Trek: The Original Series\"><span style=\"cursor: help;\" title=\"Star Trek: The Original Series\">TOS</span></a>: \"<a href=\"/wiki/A_Piece_of_the_Action_(episode)\" title=\"A Piece of the Action (episode)\"><span style=\"cursor: help;\" title=\"A Piece of the Action (TOS 2x20)\">A Piece of the Action</span></a>\" has passed away at the age of 83. <span class=\"noicon\"><a class=\"external autonumber\" href=\"http://https://www.hollywoodreporter.com/news/dyanne-thorne-dead-ilsa-she-wolf-ss-actress-was-83-1277056\" rel=\"nofollow\">[4]</a></span></dd></dl></div>\n",
      "</div></div></div></div></div></div></article>\n",
      "Type of the variable 'title': Tag\n"
     ]
    }
   ],
   "source": [
    "tag = 'article'\n",
    "article = soup.find_all(tag)[0]\n",
    "print(article)\n",
    "print('Type of the variable \\'title\\':', article.__class__.__name__)"
   ]
  },
  {
   "cell_type": "markdown",
   "metadata": {
    "colab_type": "text",
    "id": "sEioc2exMk40"
   },
   "source": [
    "### Get some of the text\n",
    "- Plain text without HTML tags"
   ]
  },
  {
   "cell_type": "code",
   "execution_count": 8,
   "metadata": {},
   "outputs": [
    {
     "name": "stdout",
     "output_type": "stream",
     "text": [
      "\n",
      "\t\t\t\t\t\t\t\t\twindow.adslots2.push([\"top_boxad\"]);\n",
      "\t\t\t\t\t\t\t\n",
      "Welcome to Memory Alpha!\n",
      "Memory Alpha is a collaborative project to create the most definitive, accurate, and accessible encyclopedia and reference for everything related to Star Trek. The English-language Memory Alpha started in November 2003, and currently consists of 48,195 articles. If this is your first visit, please read an introduction to Memory Alpha.\n",
      " •\n",
      " •\n",
      " •\n",
      " •\n",
      " •\n",
      " •\n",
      " •\n",
      " •\n",
      " •\n",
      " •\n",
      " •\n",
      " •\n",
      " •\n",
      " •\n",
      " •\n",
      " • \n",
      " • \n",
      " • \n",
      " Warning: Memory Alpha con\n"
     ]
    }
   ],
   "source": [
    "print(re.sub(r'\\n\\n+', '\\n', article.text)[:500])"
   ]
  },
  {
   "cell_type": "markdown",
   "metadata": {
    "colab_type": "text",
    "id": "Gdf3no5jMk41"
   },
   "source": [
    "### Find the links in the text"
   ]
  },
  {
   "cell_type": "code",
   "execution_count": 9,
   "metadata": {},
   "outputs": [
    {
     "data": {
      "text/plain": [
       "['/wiki/Star_Trek',\n",
       " '/wiki/Special:AllPages',\n",
       " '/wiki/Memory_Alpha:Introduction',\n",
       " 'https://mu-memory-alpha.fandom.com/wiki/',\n",
       " 'https://memory-alpha.fandom.com/bg/wiki/',\n",
       " 'https://memory-alpha.fandom.com/ca/wiki/',\n",
       " 'https://memory-alpha.fandom.com/cs/wiki/',\n",
       " 'https://memory-alpha.fandom.com/de/wiki/',\n",
       " 'https://memory-alpha.fandom.com/eo/wiki/',\n",
       " 'https://memory-alpha.fandom.com/es/wiki/',\n",
       " 'https://memory-alpha.fandom.com/fr/wiki/',\n",
       " 'https://memory-alpha.fandom.com/it/wiki/',\n",
       " 'https://memory-alpha.fandom.com/ja/wiki/',\n",
       " 'https://memory-alpha.fandom.com/nl/wiki/',\n",
       " 'https://memory-alpha.fandom.com/pl/wiki/',\n",
       " 'http://pt.memory-alpha.org/wiki/',\n",
       " 'https://memory-alpha.fandom.com/ro/wiki/',\n",
       " 'https://memory-alpha.fandom.com/ru/wiki/',\n",
       " 'https://memory-alpha.fandom.com/sr/wiki/',\n",
       " 'https://memory-alpha.fandom.com/sv/wiki/',\n",
       " 'http://zh-cn.memory-alpha.org/wiki/',\n",
       " '/wiki/Memory_Alpha:Start_a_new_edition_in_another_language',\n",
       " '/wiki/MA:SPOILER',\n",
       " '/wiki/Star_Trek:_Short_Treks',\n",
       " '/wiki/ST_Season_1',\n",
       " '/wiki/ST_Season_2',\n",
       " '/wiki/Runaway_(episode)',\n",
       " '/wiki/Calypso_(episode)',\n",
       " '/wiki/The_Brightest_Star_(episode)',\n",
       " '/wiki/The_Escape_Artist_(episode)',\n",
       " '/wiki/Q%26A_(episode)',\n",
       " '/wiki/The_Trouble_with_Edward_(episode)',\n",
       " '/wiki/Ask_Not_(episode)',\n",
       " '/wiki/The_Girl_Who_Made_the_Stars_(episode)',\n",
       " '/wiki/Ephraim_and_Dot_(episode)',\n",
       " '/wiki/Children_of_Mars_(episode)',\n",
       " '/wiki/20_February',\n",
       " '/wiki/27_February',\n",
       " '/wiki/5_March',\n",
       " '/wiki/Star_Trek:_Picard',\n",
       " '/wiki/Stardust_City_Rag_(episode)',\n",
       " '/wiki/The_Impossible_Box_(episode)',\n",
       " '/wiki/Nepenthe_(episode)',\n",
       " '/wiki/Jean-Luc_Picard',\n",
       " '/wiki/Seven_of_Nine',\n",
       " '/wiki/Icheb',\n",
       " '/wiki/Bruce_Maddox',\n",
       " '/wiki/Bjayzl',\n",
       " '/wiki/Vup',\n",
       " '/wiki/Gabriel_Hwang',\n",
       " '/wiki/Aftershow',\n",
       " '/wiki/The_Ready_Room',\n",
       " '/wiki/The_Impossible_Box_(aftershow)',\n",
       " '/wiki/Star_Trek:_Discovery',\n",
       " '/wiki/2017_(production)',\n",
       " '/wiki/2018_(production)',\n",
       " '/wiki/2019_(production)',\n",
       " '/wiki/2020_(production)',\n",
       " '/wiki/DIS_Season_1',\n",
       " '/wiki/DIS_Season_2',\n",
       " '/wiki/DIS_Season_3',\n",
       " '/wiki/Michael_Burnham',\n",
       " '/wiki/Christopher_Pike',\n",
       " '/wiki/USS_Discovery',\n",
       " '/wiki/Red_Angel',\n",
       " '/wiki/Section_31',\n",
       " '/wiki/Control',\n",
       " '/wiki/Time_travel',\n",
       " '/wiki/Aftershow',\n",
       " '/wiki/After_Trek',\n",
       " '/wiki/The_Ready_Room',\n",
       " '/wiki/Star_Trek:_Lower_Decks',\n",
       " '/wiki/LD_Season_1',\n",
       " '/wiki/Eugene_Cordero',\n",
       " '/wiki/Dawnn_Lewis',\n",
       " '/wiki/Tawny_Newsome',\n",
       " '/wiki/Jerry_O%27Connell',\n",
       " '/wiki/Jack_Quaid',\n",
       " '/wiki/Fred_Tatasciore',\n",
       " '/wiki/Gillian_Vigman',\n",
       " '/wiki/No%C3%ABl_Wells',\n",
       " '/wiki/Upcoming_productions',\n",
       " '/wiki/Untitled_animated_series',\n",
       " '/wiki/Untitled_Section_31_series',\n",
       " '/wiki/CBS_All_Access',\n",
       " '/wiki/Space_(channel)',\n",
       " '/wiki/Z_(channel)',\n",
       " '/wiki/Netflix',\n",
       " '/wiki/Amazon_Prime',\n",
       " '/wiki/26_February',\n",
       " '/wiki/2020_(production)#February',\n",
       " '/wiki/2020_(production)',\n",
       " '/wiki/Kevin_Conway',\n",
       " '/wiki/Clone',\n",
       " '/wiki/Kahless_(clone)',\n",
       " '/wiki/Star_Trek:_The_Next_Generation',\n",
       " '/wiki/Rightful_Heir_(episode)',\n",
       " 'http://https://www.hollywoodreporter.com/news/kevin-conway-dead-gettysburg-actor-was-77-1277389',\n",
       " '/wiki/Star_Trek:_Voyager',\n",
       " '/wiki/Star_Trek:_Enterprise',\n",
       " '/wiki/Doug_Knapp',\n",
       " 'http://https://www.hollywoodreporter.com/news/douglas-knapp-dead-cinematographer-camera-operator-john-carpenter-was-70-1276804',\n",
       " '/wiki/Marj_Dusay',\n",
       " '/wiki/Kara_(Eymorg)',\n",
       " '/wiki/Star_Trek:_The_Original_Series',\n",
       " '/wiki/Spock%27s_Brain_(episode)',\n",
       " 'http://www.hollywoodreporter.com/news/marj-dusay-dead-star-trek-actress-veteran-soap-opera-player-was-83-1274492',\n",
       " '/wiki/Dyanne_Thorne',\n",
       " '/wiki/Iotian_girl_1',\n",
       " '/wiki/Star_Trek:_The_Original_Series',\n",
       " '/wiki/A_Piece_of_the_Action_(episode)',\n",
       " 'http://https://www.hollywoodreporter.com/news/dyanne-thorne-dead-ilsa-she-wolf-ss-actress-was-83-1277056']"
      ]
     },
     "execution_count": 9,
     "metadata": {},
     "output_type": "execute_result"
    }
   ],
   "source": [
    "tag = 'a'\n",
    "# create a list with the links from the `<a>` tag\n",
    "tag_list = [t.get('href') for t in article.find_all(tag)]\n",
    "tag_list"
   ]
  },
  {
   "cell_type": "code",
   "execution_count": 10,
   "metadata": {},
   "outputs": [
    {
     "name": "stdout",
     "output_type": "stream",
     "text": [
      "Size of 'tag_list': 90\n"
     ]
    },
    {
     "data": {
      "text/plain": [
       "['Star_Trek',\n",
       " 'Special:AllPages',\n",
       " 'Memory_Alpha:Introduction',\n",
       " 'Memory_Alpha:Start_a_new_edition_in_another_language',\n",
       " 'MA:SPOILER',\n",
       " 'Star_Trek:_Short_Treks',\n",
       " 'ST_Season_1',\n",
       " 'ST_Season_2',\n",
       " 'Runaway_(episode)',\n",
       " 'Calypso_(episode)',\n",
       " 'The_Brightest_Star_(episode)',\n",
       " 'The_Escape_Artist_(episode)',\n",
       " 'Q%26A_(episode)',\n",
       " 'The_Trouble_with_Edward_(episode)',\n",
       " 'Ask_Not_(episode)',\n",
       " 'The_Girl_Who_Made_the_Stars_(episode)',\n",
       " 'Ephraim_and_Dot_(episode)',\n",
       " 'Children_of_Mars_(episode)',\n",
       " '20_February',\n",
       " '27_February',\n",
       " '5_March',\n",
       " 'Star_Trek:_Picard',\n",
       " 'Stardust_City_Rag_(episode)',\n",
       " 'The_Impossible_Box_(episode)',\n",
       " 'Nepenthe_(episode)',\n",
       " 'Jean-Luc_Picard',\n",
       " 'Seven_of_Nine',\n",
       " 'Icheb',\n",
       " 'Bruce_Maddox',\n",
       " 'Bjayzl',\n",
       " 'Vup',\n",
       " 'Gabriel_Hwang',\n",
       " 'Aftershow',\n",
       " 'The_Ready_Room',\n",
       " 'The_Impossible_Box_(aftershow)',\n",
       " 'Star_Trek:_Discovery',\n",
       " '2017_(production)',\n",
       " '2018_(production)',\n",
       " '2019_(production)',\n",
       " '2020_(production)',\n",
       " 'DIS_Season_1',\n",
       " 'DIS_Season_2',\n",
       " 'DIS_Season_3',\n",
       " 'Michael_Burnham',\n",
       " 'Christopher_Pike',\n",
       " 'USS_Discovery',\n",
       " 'Red_Angel',\n",
       " 'Section_31',\n",
       " 'Control',\n",
       " 'Time_travel',\n",
       " 'Aftershow',\n",
       " 'After_Trek',\n",
       " 'The_Ready_Room',\n",
       " 'Star_Trek:_Lower_Decks',\n",
       " 'LD_Season_1',\n",
       " 'Eugene_Cordero',\n",
       " 'Dawnn_Lewis',\n",
       " 'Tawny_Newsome',\n",
       " 'Jerry_O%27Connell',\n",
       " 'Jack_Quaid',\n",
       " 'Fred_Tatasciore',\n",
       " 'Gillian_Vigman',\n",
       " 'No%C3%ABl_Wells',\n",
       " 'Upcoming_productions',\n",
       " 'Untitled_animated_series',\n",
       " 'Untitled_Section_31_series',\n",
       " 'CBS_All_Access',\n",
       " 'Space_(channel)',\n",
       " 'Z_(channel)',\n",
       " 'Netflix',\n",
       " 'Amazon_Prime',\n",
       " '26_February',\n",
       " '2020_(production)#February',\n",
       " '2020_(production)',\n",
       " 'Kevin_Conway',\n",
       " 'Clone',\n",
       " 'Kahless_(clone)',\n",
       " 'Star_Trek:_The_Next_Generation',\n",
       " 'Rightful_Heir_(episode)',\n",
       " 'Star_Trek:_Voyager',\n",
       " 'Star_Trek:_Enterprise',\n",
       " 'Doug_Knapp',\n",
       " 'Marj_Dusay',\n",
       " 'Kara_(Eymorg)',\n",
       " 'Star_Trek:_The_Original_Series',\n",
       " 'Spock%27s_Brain_(episode)',\n",
       " 'Dyanne_Thorne',\n",
       " 'Iotian_girl_1',\n",
       " 'Star_Trek:_The_Original_Series',\n",
       " 'A_Piece_of_the_Action_(episode)']"
      ]
     },
     "execution_count": 10,
     "metadata": {},
     "output_type": "execute_result"
    }
   ],
   "source": [
    "tag_list = [t[6:] for t in tag_list if (t) and (t.startswith('/wiki/'))]\n",
    "print('Size of \\'tag_list\\':', len(tag_list))\n",
    "tag_list"
   ]
  },
  {
   "cell_type": "code",
   "execution_count": 15,
   "metadata": {},
   "outputs": [
    {
     "name": "stdout",
     "output_type": "stream",
     "text": [
      "Size of 'tag_list': 86\n"
     ]
    },
    {
     "data": {
      "text/plain": [
       "['2020  production ',\n",
       " 'Special:AllPages',\n",
       " '2020  production #February',\n",
       " 'Kara  Eymorg ',\n",
       " 'Jack Quaid',\n",
       " 'Eugene Cordero',\n",
       " 'DIS Season 2',\n",
       " 'The Ready Room',\n",
       " 'Q 26A  episode ',\n",
       " 'Time travel',\n",
       " 'Star Trek: The Next Generation',\n",
       " 'Space  channel ',\n",
       " 'Gillian Vigman',\n",
       " 'MA:SPOILER',\n",
       " 'LD Season 1',\n",
       " 'After Trek',\n",
       " 'Star Trek: Voyager',\n",
       " 'Upcoming productions',\n",
       " 'Doug Knapp',\n",
       " 'DIS Season 3',\n",
       " 'USS Discovery',\n",
       " 'The Brightest Star  episode ',\n",
       " 'CBS All Access',\n",
       " '2019  production ',\n",
       " 'The Trouble with Edward  episode ',\n",
       " 'Spock 27s Brain  episode ',\n",
       " 'Dawnn Lewis',\n",
       " '26 February',\n",
       " 'Star Trek: The Original Series',\n",
       " 'Star Trek',\n",
       " 'Star Trek: Discovery',\n",
       " 'Bruce Maddox',\n",
       " 'Ephraim and Dot  episode ',\n",
       " 'Bjayzl',\n",
       " 'No C3 ABl Wells',\n",
       " 'Red Angel',\n",
       " 'Kahless  clone ',\n",
       " 'Z  channel ',\n",
       " 'Seven of Nine',\n",
       " '5 March',\n",
       " 'Stardust City Rag  episode ',\n",
       " 'Clone',\n",
       " 'Christopher Pike',\n",
       " 'The Impossible Box  aftershow ',\n",
       " 'ST Season 2',\n",
       " 'Vup',\n",
       " 'Nepenthe  episode ',\n",
       " 'Michael Burnham',\n",
       " 'Children of Mars  episode ',\n",
       " 'Untitled Section 31 series',\n",
       " 'Runaway  episode ',\n",
       " 'Star Trek: Lower Decks',\n",
       " 'Jean Luc Picard',\n",
       " 'Ask Not  episode ',\n",
       " 'Section 31',\n",
       " 'Netflix',\n",
       " 'A Piece of the Action  episode ',\n",
       " '20 February',\n",
       " 'Star Trek: Picard',\n",
       " 'DIS Season 1',\n",
       " 'Marj Dusay',\n",
       " 'Aftershow',\n",
       " 'Control',\n",
       " 'Memory Alpha:Start a new edition in another language',\n",
       " 'Memory Alpha:Introduction',\n",
       " 'Fred Tatasciore',\n",
       " 'Iotian girl 1',\n",
       " '2018  production ',\n",
       " 'The Escape Artist  episode ',\n",
       " 'Jerry O 27Connell',\n",
       " '2017  production ',\n",
       " 'Calypso  episode ',\n",
       " 'Untitled animated series',\n",
       " 'Star Trek: Enterprise',\n",
       " 'Kevin Conway',\n",
       " 'Dyanne Thorne',\n",
       " 'The Impossible Box  episode ',\n",
       " 'Tawny Newsome',\n",
       " 'Star Trek: Short Treks',\n",
       " 'Gabriel Hwang',\n",
       " 'ST Season 1',\n",
       " 'Icheb',\n",
       " 'Amazon Prime',\n",
       " '27 February',\n",
       " 'Rightful Heir  episode ',\n",
       " 'The Girl Who Made the Stars  episode ']"
      ]
     },
     "execution_count": 15,
     "metadata": {},
     "output_type": "execute_result"
    }
   ],
   "source": [
    "tag_list = list(set(tag_list))\n",
    "print('Size of \\'tag_list\\':', len(tag_list))\n",
    "tag_list"
   ]
  },
  {
   "cell_type": "code",
   "execution_count": 16,
   "metadata": {},
   "outputs": [
    {
     "name": "stdout",
     "output_type": "stream",
     "text": [
      "Size of 'tag_list': 86\n"
     ]
    },
    {
     "data": {
      "text/plain": [
       "['2020  production ',\n",
       " 'Special:AllPages',\n",
       " '2020  production #February',\n",
       " 'Kara  Eymorg ',\n",
       " 'Jack Quaid',\n",
       " 'Eugene Cordero',\n",
       " 'DIS Season 2',\n",
       " 'The Ready Room',\n",
       " 'Q 26A  episode ',\n",
       " 'Time travel',\n",
       " 'Star Trek: The Next Generation',\n",
       " 'Space  channel ',\n",
       " 'Gillian Vigman',\n",
       " 'MA:SPOILER',\n",
       " 'LD Season 1',\n",
       " 'After Trek',\n",
       " 'Star Trek: Voyager',\n",
       " 'Upcoming productions',\n",
       " 'Doug Knapp',\n",
       " 'DIS Season 3',\n",
       " 'USS Discovery',\n",
       " 'The Brightest Star  episode ',\n",
       " 'CBS All Access',\n",
       " '2019  production ',\n",
       " 'The Trouble with Edward  episode ',\n",
       " 'Spock 27s Brain  episode ',\n",
       " 'Dawnn Lewis',\n",
       " '26 February',\n",
       " 'Star Trek: The Original Series',\n",
       " 'Star Trek',\n",
       " 'Star Trek: Discovery',\n",
       " 'Bruce Maddox',\n",
       " 'Ephraim and Dot  episode ',\n",
       " 'Bjayzl',\n",
       " 'No C3 ABl Wells',\n",
       " 'Red Angel',\n",
       " 'Kahless  clone ',\n",
       " 'Z  channel ',\n",
       " 'Seven of Nine',\n",
       " '5 March',\n",
       " 'Stardust City Rag  episode ',\n",
       " 'Clone',\n",
       " 'Christopher Pike',\n",
       " 'The Impossible Box  aftershow ',\n",
       " 'ST Season 2',\n",
       " 'Vup',\n",
       " 'Nepenthe  episode ',\n",
       " 'Michael Burnham',\n",
       " 'Children of Mars  episode ',\n",
       " 'Untitled Section 31 series',\n",
       " 'Runaway  episode ',\n",
       " 'Star Trek: Lower Decks',\n",
       " 'Jean Luc Picard',\n",
       " 'Ask Not  episode ',\n",
       " 'Section 31',\n",
       " 'Netflix',\n",
       " 'A Piece of the Action  episode ',\n",
       " '20 February',\n",
       " 'Star Trek: Picard',\n",
       " 'DIS Season 1',\n",
       " 'Marj Dusay',\n",
       " 'Aftershow',\n",
       " 'Control',\n",
       " 'Memory Alpha:Start a new edition in another language',\n",
       " 'Memory Alpha:Introduction',\n",
       " 'Fred Tatasciore',\n",
       " 'Iotian girl 1',\n",
       " '2018  production ',\n",
       " 'The Escape Artist  episode ',\n",
       " 'Jerry O 27Connell',\n",
       " '2017  production ',\n",
       " 'Calypso  episode ',\n",
       " 'Untitled animated series',\n",
       " 'Star Trek: Enterprise',\n",
       " 'Kevin Conway',\n",
       " 'Dyanne Thorne',\n",
       " 'The Impossible Box  episode ',\n",
       " 'Tawny Newsome',\n",
       " 'Star Trek: Short Treks',\n",
       " 'Gabriel Hwang',\n",
       " 'ST Season 1',\n",
       " 'Icheb',\n",
       " 'Amazon Prime',\n",
       " '27 February',\n",
       " 'Rightful Heir  episode ',\n",
       " 'The Girl Who Made the Stars  episode ']"
      ]
     },
     "execution_count": 16,
     "metadata": {},
     "output_type": "execute_result"
    }
   ],
   "source": [
    "tag_list = [re.sub('_', ' ', t) for t in tag_list]\n",
    "print('Size of \\'tag_list\\':', len(tag_list))\n",
    "tag_list"
   ]
  },
  {
   "cell_type": "code",
   "execution_count": 13,
   "metadata": {},
   "outputs": [
    {
     "name": "stdout",
     "output_type": "stream",
     "text": [
      "Size of 'tag_list': 86\n"
     ]
    },
    {
     "data": {
      "text/plain": [
       "['Time travel',\n",
       " 'Special:AllPages',\n",
       " '26 February',\n",
       " 'Star Trek: Short Treks',\n",
       " 'Stardust City Rag (episode)',\n",
       " 'MA:SPOILER',\n",
       " 'The Trouble with Edward (episode)',\n",
       " '2017 (production)',\n",
       " 'USS Discovery',\n",
       " '2020 (production)#February',\n",
       " 'The Impossible Box (episode)',\n",
       " 'Ask Not (episode)',\n",
       " 'Star Trek: The Original Series',\n",
       " 'Jack Quaid',\n",
       " 'Runaway (episode)',\n",
       " 'Memory Alpha:Introduction',\n",
       " '20 February',\n",
       " '5 March',\n",
       " 'A Piece of the Action (episode)',\n",
       " 'DIS Season 2',\n",
       " 'No C3 ABl Wells',\n",
       " 'Rightful Heir (episode)',\n",
       " 'The Escape Artist (episode)',\n",
       " 'DIS Season 1',\n",
       " 'Star Trek: Enterprise',\n",
       " 'Bjayzl',\n",
       " 'Seven of Nine',\n",
       " 'CBS All Access',\n",
       " 'Q 26A (episode)',\n",
       " 'Memory Alpha:Start a new edition in another language',\n",
       " 'Star Trek: Picard',\n",
       " 'Space (channel)',\n",
       " 'Star Trek: Discovery',\n",
       " 'ST Season 1',\n",
       " 'Eugene Cordero',\n",
       " 'Ephraim and Dot (episode)',\n",
       " 'Upcoming productions',\n",
       " 'Kara (Eymorg)',\n",
       " '2019 (production)',\n",
       " '27 February',\n",
       " 'Christopher Pike',\n",
       " 'Clone',\n",
       " 'Calypso (episode)',\n",
       " 'The Ready Room',\n",
       " 'Spock 27s Brain (episode)',\n",
       " 'Untitled animated series',\n",
       " 'Star Trek: Voyager',\n",
       " 'Vup',\n",
       " 'The Brightest Star (episode)',\n",
       " 'Doug Knapp',\n",
       " 'ST Season 2',\n",
       " 'Dawnn Lewis',\n",
       " 'Nepenthe (episode)',\n",
       " 'Jerry O 27Connell',\n",
       " 'Z (channel)',\n",
       " 'The Impossible Box (aftershow)',\n",
       " 'Amazon Prime',\n",
       " 'Tawny Newsome',\n",
       " 'Netflix',\n",
       " 'Untitled Section 31 series',\n",
       " 'Iotian girl 1',\n",
       " 'Aftershow',\n",
       " 'Control',\n",
       " 'Children of Mars (episode)',\n",
       " 'DIS Season 3',\n",
       " 'Marj Dusay',\n",
       " 'Red Angel',\n",
       " 'Fred Tatasciore',\n",
       " 'Kahless (clone)',\n",
       " 'Section 31',\n",
       " 'Kevin Conway',\n",
       " 'Bruce Maddox',\n",
       " '2018 (production)',\n",
       " 'LD Season 1',\n",
       " 'Dyanne Thorne',\n",
       " 'After Trek',\n",
       " 'Star Trek: Lower Decks',\n",
       " 'Gillian Vigman',\n",
       " 'Star Trek: The Next Generation',\n",
       " 'The Girl Who Made the Stars (episode)',\n",
       " 'Gabriel Hwang',\n",
       " 'Icheb',\n",
       " '2020 (production)',\n",
       " 'Michael Burnham',\n",
       " 'Jean-Luc Picard',\n",
       " 'Star Trek']"
      ]
     },
     "execution_count": 13,
     "metadata": {},
     "output_type": "execute_result"
    }
   ],
   "source": [
    "tag_list = [re.sub('%', ' ', t) for t in tag_list]\n",
    "print('Size of \\'tag_list\\':', len(tag_list))\n",
    "tag_list"
   ]
  },
  {
   "cell_type": "code",
   "execution_count": 18,
   "metadata": {},
   "outputs": [
    {
     "name": "stdout",
     "output_type": "stream",
     "text": [
      "Size of 'tag_list': 86\n"
     ]
    },
    {
     "data": {
      "text/plain": [
       "['20 February',\n",
       " '2017  production ',\n",
       " '2018  production ',\n",
       " '2019  production ',\n",
       " '2020  production ',\n",
       " '2020  production  February',\n",
       " '26 February',\n",
       " '27 February',\n",
       " '5 March',\n",
       " 'A Piece of the Action  episode ',\n",
       " 'After Trek',\n",
       " 'Aftershow',\n",
       " 'Amazon Prime',\n",
       " 'Ask Not  episode ',\n",
       " 'Bjayzl',\n",
       " 'Bruce Maddox',\n",
       " 'CBS All Access',\n",
       " 'Calypso  episode ',\n",
       " 'Children of Mars  episode ',\n",
       " 'Christopher Pike',\n",
       " 'Clone',\n",
       " 'Control',\n",
       " 'DIS Season 1',\n",
       " 'DIS Season 2',\n",
       " 'DIS Season 3',\n",
       " 'Dawnn Lewis',\n",
       " 'Doug Knapp',\n",
       " 'Dyanne Thorne',\n",
       " 'Ephraim and Dot  episode ',\n",
       " 'Eugene Cordero',\n",
       " 'Fred Tatasciore',\n",
       " 'Gabriel Hwang',\n",
       " 'Gillian Vigman',\n",
       " 'Icheb',\n",
       " 'Iotian girl 1',\n",
       " 'Jack Quaid',\n",
       " 'Jean Luc Picard',\n",
       " 'Jerry O 27Connell',\n",
       " 'Kahless  clone ',\n",
       " 'Kara  Eymorg ',\n",
       " 'Kevin Conway',\n",
       " 'LD Season 1',\n",
       " 'MA:SPOILER',\n",
       " 'Marj Dusay',\n",
       " 'Memory Alpha:Introduction',\n",
       " 'Memory Alpha:Start a new edition in another language',\n",
       " 'Michael Burnham',\n",
       " 'Nepenthe  episode ',\n",
       " 'Netflix',\n",
       " 'No C3 ABl Wells',\n",
       " 'Q 26A  episode ',\n",
       " 'Red Angel',\n",
       " 'Rightful Heir  episode ',\n",
       " 'Runaway  episode ',\n",
       " 'ST Season 1',\n",
       " 'ST Season 2',\n",
       " 'Section 31',\n",
       " 'Seven of Nine',\n",
       " 'Space  channel ',\n",
       " 'Special:AllPages',\n",
       " 'Spock 27s Brain  episode ',\n",
       " 'Star Trek',\n",
       " 'Star Trek: Discovery',\n",
       " 'Star Trek: Enterprise',\n",
       " 'Star Trek: Lower Decks',\n",
       " 'Star Trek: Picard',\n",
       " 'Star Trek: Short Treks',\n",
       " 'Star Trek: The Next Generation',\n",
       " 'Star Trek: The Original Series',\n",
       " 'Star Trek: Voyager',\n",
       " 'Stardust City Rag  episode ',\n",
       " 'Tawny Newsome',\n",
       " 'The Brightest Star  episode ',\n",
       " 'The Escape Artist  episode ',\n",
       " 'The Girl Who Made the Stars  episode ',\n",
       " 'The Impossible Box  aftershow ',\n",
       " 'The Impossible Box  episode ',\n",
       " 'The Ready Room',\n",
       " 'The Trouble with Edward  episode ',\n",
       " 'Time travel',\n",
       " 'USS Discovery',\n",
       " 'Untitled Section 31 series',\n",
       " 'Untitled animated series',\n",
       " 'Upcoming productions',\n",
       " 'Vup',\n",
       " 'Z  channel ']"
      ]
     },
     "execution_count": 18,
     "metadata": {},
     "output_type": "execute_result"
    }
   ],
   "source": [
    "tag_list = [re.sub('[(,),-,#]', ' ', t) for t in tag_list]\n",
    "print('Size of \\'tag_list\\':', len(tag_list))\n",
    "tag_list"
   ]
  },
  {
   "cell_type": "code",
   "execution_count": 19,
   "metadata": {},
   "outputs": [
    {
     "name": "stdout",
     "output_type": "stream",
     "text": [
      "Size of 'tag_list': 86\n"
     ]
    },
    {
     "data": {
      "text/plain": [
       "['20 February',\n",
       " '2017  production ',\n",
       " '2018  production ',\n",
       " '2019  production ',\n",
       " '2020  production ',\n",
       " '2020  production  February',\n",
       " '26 February',\n",
       " '27 February',\n",
       " '5 March',\n",
       " 'A Piece of the Action  episode ',\n",
       " 'After Trek',\n",
       " 'Aftershow',\n",
       " 'Amazon Prime',\n",
       " 'Ask Not  episode ',\n",
       " 'Bjayzl',\n",
       " 'Bruce Maddox',\n",
       " 'CBS All Access',\n",
       " 'Calypso  episode ',\n",
       " 'Children of Mars  episode ',\n",
       " 'Christopher Pike',\n",
       " 'Clone',\n",
       " 'Control',\n",
       " 'DIS Season 1',\n",
       " 'DIS Season 2',\n",
       " 'DIS Season 3',\n",
       " 'Dawnn Lewis',\n",
       " 'Doug Knapp',\n",
       " 'Dyanne Thorne',\n",
       " 'Ephraim and Dot  episode ',\n",
       " 'Eugene Cordero',\n",
       " 'Fred Tatasciore',\n",
       " 'Gabriel Hwang',\n",
       " 'Gillian Vigman',\n",
       " 'Icheb',\n",
       " 'Iotian girl 1',\n",
       " 'Jack Quaid',\n",
       " 'Jean Luc Picard',\n",
       " 'Jerry O 27Connell',\n",
       " 'Kahless  clone ',\n",
       " 'Kara  Eymorg ',\n",
       " 'Kevin Conway',\n",
       " 'LD Season 1',\n",
       " 'MA:SPOILER',\n",
       " 'Marj Dusay',\n",
       " 'Memory Alpha:Introduction',\n",
       " 'Memory Alpha:Start a new edition in another language',\n",
       " 'Michael Burnham',\n",
       " 'Nepenthe  episode ',\n",
       " 'Netflix',\n",
       " 'No C3 ABl Wells',\n",
       " 'Q 26A  episode ',\n",
       " 'Red Angel',\n",
       " 'Rightful Heir  episode ',\n",
       " 'Runaway  episode ',\n",
       " 'ST Season 1',\n",
       " 'ST Season 2',\n",
       " 'Section 31',\n",
       " 'Seven of Nine',\n",
       " 'Space  channel ',\n",
       " 'Special:AllPages',\n",
       " 'Spock 27s Brain  episode ',\n",
       " 'Star Trek',\n",
       " 'Star Trek: Discovery',\n",
       " 'Star Trek: Enterprise',\n",
       " 'Star Trek: Lower Decks',\n",
       " 'Star Trek: Picard',\n",
       " 'Star Trek: Short Treks',\n",
       " 'Star Trek: The Next Generation',\n",
       " 'Star Trek: The Original Series',\n",
       " 'Star Trek: Voyager',\n",
       " 'Stardust City Rag  episode ',\n",
       " 'Tawny Newsome',\n",
       " 'The Brightest Star  episode ',\n",
       " 'The Escape Artist  episode ',\n",
       " 'The Girl Who Made the Stars  episode ',\n",
       " 'The Impossible Box  aftershow ',\n",
       " 'The Impossible Box  episode ',\n",
       " 'The Ready Room',\n",
       " 'The Trouble with Edward  episode ',\n",
       " 'Time travel',\n",
       " 'USS Discovery',\n",
       " 'Untitled Section 31 series',\n",
       " 'Untitled animated series',\n",
       " 'Upcoming productions',\n",
       " 'Vup',\n",
       " 'Z  channel ']"
      ]
     },
     "execution_count": 19,
     "metadata": {},
     "output_type": "execute_result"
    }
   ],
   "source": [
    "# order the list\n",
    "tag_list.sort()\n",
    "print('Size of \\'tag_list\\':', len(tag_list))\n",
    "tag_list"
   ]
  },
  {
   "cell_type": "markdown",
   "metadata": {
    "colab_type": "text",
    "id": "2RNySAm5Mk42"
   },
   "source": [
    "### Create a filter for unwanted types of articles"
   ]
  },
  {
   "cell_type": "markdown",
   "metadata": {
    "colab_type": "text",
    "id": "IS5Tc4z9FoYy"
   },
   "source": [
    ">"
   ]
  },
  {
   "cell_type": "code",
   "execution_count": 21,
   "metadata": {},
   "outputs": [
    {
     "data": {
      "text/plain": [
       "['20 February',\n",
       " '26 February',\n",
       " '27 February',\n",
       " '5 March',\n",
       " 'After Trek',\n",
       " 'Amazon Prime',\n",
       " 'Bjayzl',\n",
       " 'Bruce Maddox',\n",
       " 'CBS All Access',\n",
       " 'Christopher Pike',\n",
       " 'Clone',\n",
       " 'Control',\n",
       " 'Dawnn Lewis',\n",
       " 'Doug Knapp',\n",
       " 'Dyanne Thorne',\n",
       " 'Eugene Cordero',\n",
       " 'Fred Tatasciore',\n",
       " 'Gabriel Hwang',\n",
       " 'Gillian Vigman',\n",
       " 'Icheb',\n",
       " 'Iotian girl 1',\n",
       " 'Jack Quaid',\n",
       " 'Jean Luc Picard',\n",
       " 'Jerry O 27Connell',\n",
       " 'Kahless  clone ',\n",
       " 'Kara  Eymorg ',\n",
       " 'Kevin Conway',\n",
       " 'MA:SPOILER',\n",
       " 'Marj Dusay',\n",
       " 'Memory Alpha:Introduction',\n",
       " 'Memory Alpha:Start a new edition in another language',\n",
       " 'Michael Burnham',\n",
       " 'Netflix',\n",
       " 'No C3 ABl Wells',\n",
       " 'Red Angel',\n",
       " 'Section 31',\n",
       " 'Seven of Nine',\n",
       " 'Special:AllPages',\n",
       " 'Star Trek',\n",
       " 'Star Trek: Discovery',\n",
       " 'Star Trek: Enterprise',\n",
       " 'Star Trek: Lower Decks',\n",
       " 'Star Trek: Picard',\n",
       " 'Star Trek: Short Treks',\n",
       " 'Star Trek: The Next Generation',\n",
       " 'Star Trek: The Original Series',\n",
       " 'Star Trek: Voyager',\n",
       " 'Tawny Newsome',\n",
       " 'The Impossible Box  aftershow ',\n",
       " 'The Ready Room',\n",
       " 'Time travel',\n",
       " 'USS Discovery',\n",
       " 'Untitled Section 31 series',\n",
       " 'Untitled animated series',\n",
       " 'Vup']"
      ]
     },
     "execution_count": 21,
     "metadata": {},
     "output_type": "execute_result"
    }
   ],
   "source": [
    "filter  = '(%s)' % '|'.join([\n",
    "    'channel',\n",
    "    'Aftershow', # both Alternate_reality and alternate_reality\n",
    "    'mirror',\n",
    "    'rank',\n",
    "    'production',\n",
    "    'Season'\n",
    "])\n",
    "# remove the links that are found in the filter\n",
    "tag_list = [t for t in tag_list if not re.search(filter, t)]\n",
    "tag_list"
   ]
  },
  {
   "cell_type": "markdown",
   "metadata": {
    "colab_type": "text",
    "id": "mxI2We9OFpfs"
   },
   "source": [
    ">"
   ]
  },
  {
   "cell_type": "markdown",
   "metadata": {
    "colab_type": "text",
    "id": "81DoNxN1FqGN"
   },
   "source": [
    ">"
   ]
  },
  {
   "cell_type": "markdown",
   "metadata": {
    "colab_type": "text",
    "id": "RERADKgNFq9T"
   },
   "source": [
    "\n",
    "\n",
    "---\n",
    "\n",
    "\n",
    "\n",
    "---\n",
    "\n",
    "\n",
    "\n",
    "> > > > > > > > > © 2019 Institute of Data\n",
    "\n",
    "\n",
    "---\n",
    "\n",
    "\n",
    "\n",
    "---\n",
    "\n",
    "\n",
    "\n"
   ]
  }
 ],
 "metadata": {
  "colab": {
   "collapsed_sections": [],
   "name": "DSIA Lab-9_2.ipynb",
   "provenance": []
  },
  "kernelspec": {
   "display_name": "Python 3",
   "language": "python",
   "name": "python3"
  },
  "language_info": {
   "codemirror_mode": {
    "name": "ipython",
    "version": 3
   },
   "file_extension": ".py",
   "mimetype": "text/x-python",
   "name": "python",
   "nbconvert_exporter": "python",
   "pygments_lexer": "ipython3",
   "version": "3.7.4"
  }
 },
 "nbformat": 4,
 "nbformat_minor": 1
}
