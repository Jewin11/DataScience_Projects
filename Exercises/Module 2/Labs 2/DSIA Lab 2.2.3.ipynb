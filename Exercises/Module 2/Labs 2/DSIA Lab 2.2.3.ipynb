{
 "cells": [
  {
   "cell_type": "markdown",
   "metadata": {
    "colab_type": "text",
    "id": "nOGGU7gNKck0"
   },
   "source": [
    "<div>\n",
    "<img src=https://www.institutedata.com/wp-content/uploads/2019/10/iod_h_tp_primary_c.svg width=\"300\">\n",
    "</div>"
   ]
  },
  {
   "cell_type": "markdown",
   "metadata": {
    "colab_type": "text",
    "id": "_D_idRWZKck4"
   },
   "source": [
    "# Lab 2.2.3 \n",
    "# *Mining Social Media on Reddit*"
   ]
  },
  {
   "cell_type": "markdown",
   "metadata": {
    "colab_type": "text",
    "id": "atJ1XMr3Kck7"
   },
   "source": [
    "## The Reddit API and the PRAW Package"
   ]
  },
  {
   "cell_type": "markdown",
   "metadata": {
    "colab_type": "text",
    "id": "aJ9o1EfAKck-"
   },
   "source": [
    "The Reddit API is rich and complex, with many endpoints (https://www.reddit.com/dev/api/). It includes methods for navigating its collections, which include various kinds of media as well as comments. Fortunately, the Python library PRAW reduces much of this complexity.\n",
    "\n",
    "Reddit requires developers to create and authenticate an app before they can use the API, but the process is much less onerus than some, and does not have waiting period for approval of new developers (as of 18 August 2018)."
   ]
  },
  {
   "cell_type": "markdown",
   "metadata": {
    "colab_type": "text",
    "id": "egz9IUhlKclB"
   },
   "source": [
    "### 1. Create a Reddit App\n",
    "\n",
    "Go to https://www.reddit.com/prefs/apps and click \"create an app\".\n",
    "\n",
    "Enter the following in the form:\n",
    "\n",
    "- a name for your app\n",
    "- select \"script\" radio button\n",
    "- a description\n",
    "- a redirect URI\n",
    "\n",
    "(Nb. For pulling data into a data science experiment, a local port can be used for the Redirect URI; try http://127.0.0.1:1410)\n",
    "\n",
    "![image.png](attachment:image.png)\n",
    "\n",
    "- click \"create app\"\n",
    "- from the form that displays, copy the following to a local text file (or to this notebook):\n",
    "\n",
    "  - name (the name you gave to your app)\n",
    "  - redirect URI\n",
    "  - personal use script (this is your OAuth 2 Client ID)\n",
    "  - secret (this is your OAuth 2 Secret)"
   ]
  },
  {
   "cell_type": "markdown",
   "metadata": {
    "colab_type": "text",
    "id": "LF9V-LJ2KclE"
   },
   "source": [
    "### 2. Register for API Access\n",
    "\n",
    "- follow the link at https://www.reddit.com/wiki/api and read the terms of use for Reddit API access \n",
    "- fill in the form fields at the bottom \n",
    "  - make sure to enter your new OAuth Client ID where indicated\n",
    "  - your use case could be something like \"Training in API usage for data science projects\"\n",
    "  - your platform could be something like \"Jupyter Notebooks / Python\"\n",
    "  \n",
    "- click \"SUBMIT\"\n",
    " \n",
    "- when asked for User-Agent, enter something that fits this pattern:\n",
    "  `your_os-python:your_reddit_appname:v1.0 (by /u/your_reddit_username)`"
   ]
  },
  {
   "cell_type": "markdown",
   "metadata": {
    "colab_type": "text",
    "id": "JIsv8YAMKclG"
   },
   "source": [
    "### 3. Load Python Libraries"
   ]
  },
  {
   "cell_type": "code",
   "execution_count": 2,
   "metadata": {},
   "outputs": [
    {
     "name": "stdout",
     "output_type": "stream",
     "text": [
      "Collecting praw\n",
      "  Downloading https://files.pythonhosted.org/packages/25/c0/b9714b4fb164368843b41482a3cac11938021871adf99bf5aaa3980b0182/praw-6.5.1-py3-none-any.whl (134kB)\n",
      "Collecting update-checker>=0.16 (from praw)\n",
      "  Downloading https://files.pythonhosted.org/packages/17/c9/ab11855af164d03be0ff4fddd4c46a5bd44799a9ecc1770e01a669c21168/update_checker-0.16-py2.py3-none-any.whl\n",
      "Collecting websocket-client>=0.54.0 (from praw)\n",
      "  Downloading https://files.pythonhosted.org/packages/4c/5f/f61b420143ed1c8dc69f9eaec5ff1ac36109d52c80de49d66e0c36c3dfdf/websocket_client-0.57.0-py2.py3-none-any.whl (200kB)\n",
      "Collecting prawcore<2.0,>=1.0.1 (from praw)\n",
      "  Downloading https://files.pythonhosted.org/packages/76/b5/ce6282dea45cba6f08a30e25d18e0f3d33277e2c9fcbda75644b8dc0089b/prawcore-1.0.1-py2.py3-none-any.whl\n",
      "Requirement already satisfied: requests>=2.3.0 in d:\\anaconda3\\lib\\site-packages (from update-checker>=0.16->praw) (2.22.0)\n",
      "Requirement already satisfied: six in d:\\anaconda3\\lib\\site-packages (from websocket-client>=0.54.0->praw) (1.12.0)\n",
      "Requirement already satisfied: chardet<3.1.0,>=3.0.2 in d:\\anaconda3\\lib\\site-packages (from requests>=2.3.0->update-checker>=0.16->praw) (3.0.4)\n",
      "Requirement already satisfied: certifi>=2017.4.17 in d:\\anaconda3\\lib\\site-packages (from requests>=2.3.0->update-checker>=0.16->praw) (2019.9.11)\n",
      "Requirement already satisfied: idna<2.9,>=2.5 in d:\\anaconda3\\lib\\site-packages (from requests>=2.3.0->update-checker>=0.16->praw) (2.8)\n",
      "Requirement already satisfied: urllib3!=1.25.0,!=1.25.1,<1.26,>=1.21.1 in d:\\anaconda3\\lib\\site-packages (from requests>=2.3.0->update-checker>=0.16->praw) (1.24.2)\n",
      "Installing collected packages: update-checker, websocket-client, prawcore, praw\n",
      "Successfully installed praw-6.5.1 prawcore-1.0.1 update-checker-0.16 websocket-client-0.57.0\n"
     ]
    }
   ],
   "source": [
    "#!pip install praw"
   ]
  },
  {
   "cell_type": "code",
   "execution_count": 1,
   "metadata": {
    "colab": {},
    "colab_type": "code",
    "id": "xqi2BT66KclI"
   },
   "outputs": [],
   "source": [
    "import praw\n",
    "import requests\n",
    "import json\n",
    "import pprint\n",
    "from datetime import datetime, date, time"
   ]
  },
  {
   "cell_type": "markdown",
   "metadata": {
    "colab_type": "text",
    "id": "wwXaO9GPKclP"
   },
   "source": [
    "### 4. Authenticate from your Python script"
   ]
  },
  {
   "cell_type": "markdown",
   "metadata": {
    "colab_type": "text",
    "id": "ZF5oh54RKclR"
   },
   "source": [
    "You could assign your authentication details explicitly, as follows:"
   ]
  },
  {
   "cell_type": "code",
   "execution_count": 2,
   "metadata": {
    "colab": {},
    "colab_type": "code",
    "id": "qH2-X9juKclS"
   },
   "outputs": [],
   "source": [
    "my_user_agent = ''   # your user Agent string goes in here\n",
    "my_client_id = ''   # your Client ID string goes in here\n",
    "my_client_secret = ''   # your Secret string goes in here"
   ]
  },
  {
   "cell_type": "markdown",
   "metadata": {
    "colab_type": "text",
    "id": "1TmzPxHIKclX"
   },
   "source": [
    "A better way would be to store these details externally, so they are not displayed in the notebook:\n",
    "\n",
    "- create a file called \"auth_reddit.json\" in your \"notebooks\" directory, and save your credentials there in JSON format:\n",
    "\n",
    "`{   \"my_client_id\": \"your Client ID string goes in here\",` <br>\n",
    "&nbsp;&nbsp;&nbsp;&nbsp;&nbsp;&nbsp;&nbsp;&nbsp;` \"my_client_secret\": \"your Secret string goes in here\",` <br>\n",
    "&nbsp;&nbsp;&nbsp;&nbsp;&nbsp;&nbsp;&nbsp;&nbsp;`\"my_user_agent\": \"your user Agent string goes in here\"` <br>\n",
    "`}`\n",
    "\n",
    "Use the following code to load the credentials:  "
   ]
  },
  {
   "cell_type": "code",
   "execution_count": 3,
   "metadata": {
    "colab": {},
    "colab_type": "code",
    "id": "mFbFWGnVKclY"
   },
   "outputs": [
    {
     "data": {
      "text/plain": [
       "'C:\\\\Users\\\\Jewin\\\\Desktop\\\\Jovita-DataSciene\\\\Module 2\\\\Labs 2'"
      ]
     },
     "execution_count": 3,
     "metadata": {},
     "output_type": "execute_result"
    }
   ],
   "source": [
    "pwd()  # make sure your working directory is where the file is"
   ]
  },
  {
   "cell_type": "code",
   "execution_count": 4,
   "metadata": {
    "colab": {},
    "colab_type": "code",
    "id": "Jc5_dh-jKclc"
   },
   "outputs": [
    {
     "name": "stdout",
     "output_type": "stream",
     "text": [
      "{   'my_client_id': 'kovhpe1DLeTjGw',\n",
      "    'my_client_secret': 'O2dJVHZYnggLr7XjBvfM7RHVIY8',\n",
      "    'my_user_agent': 'windows10-python:Jovita:v1.0 (by /u/Jovita)'}\n"
     ]
    }
   ],
   "source": [
    "path_auth = 'Reddit_auth.json'\n",
    "auth = json.loads(open(path_auth).read())\n",
    "pp = pprint.PrettyPrinter(indent=4)\n",
    "# For debugging only:\n",
    "pp.pprint(auth)\n",
    "\n",
    "my_user_agent = auth['my_user_agent']\n",
    "my_client_id = auth['my_client_id']\n",
    "my_client_secret = auth['my_client_secret']"
   ]
  },
  {
   "cell_type": "markdown",
   "metadata": {
    "colab_type": "text",
    "id": "lVKFy9rZKclf"
   },
   "source": [
    "Security considerations: \n",
    "- this method only keeps your credentials invisible as long as nobody else gets access to this notebook file \n",
    "- if you wanted another user to have access to the executable notebook without divulging your credentials you should set up an OAuth 2.0 workflow to let them obtain and apply their own API tokens when using your app\n",
    "- if you just want to share your analyses, you could use a separate script (which you don't share) to fetch the data and save it locally, then use a second notebook (with no API access) to load and analyse the locally stored data"
   ]
  },
  {
   "cell_type": "markdown",
   "metadata": {
    "colab_type": "text",
    "id": "fgHqt72rKclg"
   },
   "source": [
    "### 5. Exploring the API"
   ]
  },
  {
   "cell_type": "markdown",
   "metadata": {
    "colab_type": "text",
    "id": "ByEQS6QsKclh"
   },
   "source": [
    "Here is how to connect to Reddit with read-only access:"
   ]
  },
  {
   "cell_type": "code",
   "execution_count": 5,
   "metadata": {
    "colab": {},
    "colab_type": "code",
    "id": "8hkZJlcJKcli"
   },
   "outputs": [
    {
     "name": "stdout",
     "output_type": "stream",
     "text": [
      "Read-only = True\n"
     ]
    }
   ],
   "source": [
    "reddit = praw.Reddit(client_id = my_client_id, \n",
    "                     client_secret = my_client_secret, \n",
    "                     user_agent = my_user_agent)\n",
    "\n",
    "print('Read-only = ' + str(reddit.read_only))  # Output: True"
   ]
  },
  {
   "cell_type": "markdown",
   "metadata": {
    "colab_type": "text",
    "id": "slGz0lS5Kclk"
   },
   "source": [
    "In the next cell, put the cursor after the '.' and hit the [tab] key to see the available members and methods in the response object:"
   ]
  },
  {
   "cell_type": "code",
   "execution_count": 0,
   "metadata": {
    "colab": {},
    "colab_type": "code",
    "id": "6MvyYewEKcll"
   },
   "outputs": [],
   "source": [
    "reddit."
   ]
  },
  {
   "cell_type": "markdown",
   "metadata": {
    "colab_type": "text",
    "id": "AKfXBu7yKcln"
   },
   "source": [
    "Consult the PRAW and Reddit API documentation. Print a few of the response members below:"
   ]
  },
  {
   "cell_type": "code",
   "execution_count": 0,
   "metadata": {
    "colab": {},
    "colab_type": "code",
    "id": "31Njl99lKcln"
   },
   "outputs": [],
   "source": [
    "reddit."
   ]
  },
  {
   "cell_type": "markdown",
   "metadata": {
    "colab_type": "text",
    "id": "5L10cuKfKclp"
   },
   "source": [
    "Content in Reddit is grouped by topics called \"subreddits\". Content, called \"submissions\", is fetched by calling the `subreddit` method of the connection object (which is our `reddit` variable) with an argument that matches an actual topic. \n",
    "\n",
    "We also need to append a further method call to a \"subinstance\", such as one of the following:\n",
    "\n",
    "- controversial\n",
    "- gilded\n",
    "- hot\n",
    "- new\n",
    "- rising\n",
    "- top\n",
    "\n",
    "One of the submission objects members is `title`. Fetch and print 10 submission titles from the 'learnpython' subreddit using one of the subinstances above:"
   ]
  },
  {
   "cell_type": "code",
   "execution_count": 6,
   "metadata": {
    "colab": {},
    "colab_type": "code",
    "id": "2W1iCDE9Kclp"
   },
   "outputs": [
    {
     "name": "stdout",
     "output_type": "stream",
     "text": [
      "Ask Anything Monday - Weekly Thread\n",
      "A question about () when assigning to a variable.\n",
      "How to count the number of times 3 consecutive characters appear in a string?\n",
      "Why is my extremely simple code not working\n",
      "Dear admin/moderators of r/learnpython\n",
      "Optimizing Code\n",
      "How to lower all values in a python dict, if the values are sets?\n",
      "understanding sorted using lambda function in Python\n",
      "Wrote a simple code that gives \"xp\" when you have IDE open. Pointers wanted.\n",
      "Merging multiple rows with similar data to 1 row?\n"
     ]
    }
   ],
   "source": [
    "for submission in reddit.subreddit('learnpython').hot(limit=10):\n",
    "    print(submission.title)"
   ]
  },
  {
   "cell_type": "markdown",
   "metadata": {
    "colab_type": "text",
    "id": "00coF0YJKclr"
   },
   "source": [
    "Now retrieve 10 authors:"
   ]
  },
  {
   "cell_type": "code",
   "execution_count": 7,
   "metadata": {
    "colab": {},
    "colab_type": "code",
    "id": "U1vTByCGKclr"
   },
   "outputs": [
    {
     "name": "stdout",
     "output_type": "stream",
     "text": [
      "AutoModerator\n",
      "Artaxias\n",
      "KnowledgeCastle\n",
      "thegoodestgrammar\n",
      "skateologist\n",
      "ChokolatThundah\n",
      "ofmonstersandmath\n",
      "traveling_wilburys\n",
      "GimmeShockTreatment\n",
      "smiddy-\n"
     ]
    }
   ],
   "source": [
    "for submission in reddit.subreddit('learnpython').hot(limit=10):\n",
    "    print(submission.author)"
   ]
  },
  {
   "cell_type": "markdown",
   "metadata": {
    "colab_type": "text",
    "id": "dOFMMl6AKclt"
   },
   "source": [
    "Note that we obtained the titles and authors from separate API calls. Can we expect these to correspond to the same submissions? If not, how could we gurantee that they do?"
   ]
  },
  {
   "cell_type": "code",
   "execution_count": 8,
   "metadata": {
    "colab": {},
    "colab_type": "code",
    "id": "eIPVr-WaKclu"
   },
   "outputs": [
    {
     "name": "stdout",
     "output_type": "stream",
     "text": [
      "Author: AutoModerator | Title: Ask Anything Monday - Weekly Thread\n",
      "Author: Artaxias | Title: A question about () when assigning to a variable.\n",
      "Author: KnowledgeCastle | Title: How to count the number of times 3 consecutive characters appear in a string?\n",
      "Author: thegoodestgrammar | Title: Why is my extremely simple code not working\n",
      "Author: skateologist | Title: Dear admin/moderators of r/learnpython\n",
      "Author: ChokolatThundah | Title: Optimizing Code\n",
      "Author: ofmonstersandmath | Title: How to lower all values in a python dict, if the values are sets?\n",
      "Author: traveling_wilburys | Title: understanding sorted using lambda function in Python\n",
      "Author: GimmeShockTreatment | Title: Wrote a simple code that gives \"xp\" when you have IDE open. Pointers wanted.\n",
      "Author: smiddy- | Title: Merging multiple rows with similar data to 1 row?\n"
     ]
    }
   ],
   "source": [
    "submissions = reddit.subreddit('learnpython').hot(limit=10)\n",
    "for submission in submissions:\n",
    "    print(\"Author: {} | Title: {}\".format(submission.author, submission.title))"
   ]
  },
  {
   "cell_type": "markdown",
   "metadata": {
    "colab_type": "text",
    "id": "IjIJ6ojAKclv"
   },
   "source": [
    "Why doesn't the next cell produce output?"
   ]
  },
  {
   "cell_type": "code",
   "execution_count": 9,
   "metadata": {
    "colab": {},
    "colab_type": "code",
    "id": "ifxjcJ2aKclw"
   },
   "outputs": [],
   "source": [
    "for submission in submissions:\n",
    "    print(submission.comments)"
   ]
  },
  {
   "cell_type": "code",
   "execution_count": 10,
   "metadata": {
    "colab": {},
    "colab_type": "code",
    "id": "kPNVNapBKcly"
   },
   "outputs": [
    {
     "data": {
      "text/plain": [
       "<praw.models.listing.generator.ListingGenerator at 0xbb29db7ec8>"
      ]
     },
     "execution_count": 10,
     "metadata": {},
     "output_type": "execute_result"
    }
   ],
   "source": [
    "submissions"
   ]
  },
  {
   "cell_type": "markdown",
   "metadata": {
    "colab_type": "text",
    "id": "4aZ2OSd_Kclz"
   },
   "source": [
    "Print two comments associated with each of these submissions:"
   ]
  },
  {
   "cell_type": "code",
   "execution_count": 11,
   "metadata": {
    "colab": {},
    "colab_type": "code",
    "id": "RO4ppDPJKcl0"
   },
   "outputs": [
    {
     "name": "stdout",
     "output_type": "stream",
     "text": [
      "What books do people recommend for beginners?\n",
      "Hi, i am new to python and need advice on a project. The task ist to create a mesh from these [figures](https://imgur.com/6WKwh88).  I would appreciate some advice how to start/work such a project.\n",
      "`timer` is an alias for the `time.perf_counter` function. So `start = time.perf_counter()`.\n",
      "This is leveraging the fact that functions are \"first class objects\" in Python. In Python, *every* name is a variable (including function names, class names, and imported module names) and *every* value is an object.\n",
      "\n",
      "A function is an object like anything else, and it's accessed using a variable name like anything else. `timer = time.perf_counter` is no different than `i = 1`, except instead of an integer object, it's assigning a *function* object to the `timer` variable. `perf_counter` is a variable in the `time` module, too, and `import time` creates a local variable named `time` that holds the module object. So this isn't quite as simple as creating an \"alias,\" even though that's conceptually what the author intended; it's actually creating and assigning a new variable.\n",
      "\n",
      "You may have seen `lambda` functions assigned to a variable. This is essentially the same thing. `def` is just a different way of declaring a function and the variable that refers to it (with some different semantics/functionality, but it still creates a named variable and a function object just like assigning a `lambda` does). So you can assign a function created with `def` to any number of variables just like you can a `lambda` function.\n",
      "\n",
      "Appending `()` to the end of a variable name attempts to access the variable's object value and *invoke* it as a function. You can append it to any variable, but if the object is not callable, you'll get an error:\n",
      "\n",
      "```\n",
      ">>> i = 1\n",
      ">>> i()\n",
      "Traceback (most recent call last):\n",
      "  File \"<stdin>\", line 1, in <module>\n",
      "TypeError: 'int' object is not callable\n",
      "```\n",
      "\n",
      "This is distinct from many other languages (particularly Java and C#), where functions and methods are distinct from other types and the names referring to them are not variables.\n",
      "    for i in range(len(s)-2):\n",
      "       if s[i:i+3] == 'bob':\n",
      "You could use  regular expressions:\n",
      "\n",
      "    import re\n",
      "    \n",
      "    s = 'azcbobobegghakl'\n",
      "    match_list = re.findall(\"bob\", s)\n",
      "    vcount = len(match_list)\n",
      "Hmmm try making the inputted values integers because it might be inputted as a string.\n",
      "I'm no expert, but it appears when you take the input for numbers, you are going to get a space in between.\n",
      "\n",
      "When you turn the string into a list, the space is added to the list.\n",
      "\n",
      "I removed the list(numbers) and added a .split() at the end of your input. It should automatically make a list now.\n",
      "\n",
      "I modified it a bit and got it working:\n",
      "\n",
      "     #Write a function that returns the maximum of two numbers\n",
      "    numbers=input('write 2 numbers:\\n').split()\n",
      "    #numbers=list(numbers)\n",
      "    if numbers[0]>numbers[1]:\n",
      "        print('the larger number is', numbers[0])\n",
      "    elif numbers[0]<numbers[1]:\n",
      "        print('the larger number is', numbers[1])\n",
      "    else:\n",
      "        print('the numbers are equal')\n",
      "\n",
      "EDIT: This code doesn't work. See below for the working script.\n",
      "There is already someone who has done a bot of this kind.\n",
      "If you're going to recommend a formatting method, just have them use the \"indent one extra time\" approach as that will have reddit format as code for all users, as opposed to the \"find a square with a T\" approach, which is (a) only visible to some users, and (b) only formats the code for that same set of users. (c) it's easier for new people to understand.\n",
      "\n",
      "tl:dr: just indent your code an extra time before you copy/paste.\n",
      "You should not consider optimization at this point. Instead, focus on writing working code. Next, put effort into writing code according to best practices (like getting rid of 'global'). Next, adhere to a style and routinely check your code with a linter. After that, rework code to fit decent function and class method layouts. At that point, write unit tests. After that point, write tests before you write code. Finally, work on optimization.\n",
      "I see a lot of if-then-else statements. A lot of these could probably be replaced with some more granular functions. \n",
      "\n",
      "Also when I see a lot of module variables and global declarations, it usually means that a class structure is needed. I think you could very much benefit from implementing one, it makes sense here. Class Player or something\n",
      "    new_dict = {k : {n.lower() for n in v} for k, v in old_dict.items()}\n",
      "There's already a good answer up, but I want to point out this operation may have surprising results because of how sets (and dict keys) work, by design.\n",
      "\n",
      "If you have a 3-element set \\`{'BOB', 'Bob', 'bob'}\\`, the output will be a set with just *one* element: \\`{'bob'}\\`, as all identical elements get collapsed together.\n",
      "`k` is a record, in this case. Sorting will end up based on tuples generated. The first element of the tuple will be equivalent to zero (False) if the `item_cd` not `None`. The second element will be sorted lexigraphically or value-based on the value of `item_cd`. This will essentially group all the empty `item_cd` records last.\n",
      "\n",
      "    k['item_cd'] == None? -> (True, None) -> (1, None)\n",
      "    k['item_cd'] == \"hi\" -> (False, 'hi') -> (0, 'hi')\n",
      "For someone who has Pycharm open all the time, maybe consider earning XP only when the IDE is the current active window. You can use `win32gui` module from `pywin32` library for this. \n",
      "\n",
      "ie\n",
      "\n",
      "    from win32gui import GetWindowText, GetForegroundWindow\n",
      "    \n",
      "    \n",
      "    def is_ide_active():\n",
      "        return 'pycharm' in GetWindowText(GetForegroundWindow()).lower()\n",
      "My pycharm is always open. Would be cool to add in characters entered while in pycharm (keyboard hook), count of runs, also count the time you’ve spent typing in pycharm, etc... this has potential :)\n",
      "Have you ever checked out [pandas](https://pandas.pydata.org/pandas-docs/stable/getting_started/10min.html#min)?\n",
      "Pandas. Groupby. Sum.\n"
     ]
    }
   ],
   "source": [
    "submissions = reddit.subreddit('learnpython').hot(limit=10)\n",
    "for submission in submissions:\n",
    "    top_level_comments = list(submission.comments)\n",
    "    all_comments = submission.comments.list()[:2]\n",
    "    for comment in all_comments:\n",
    "        print(comment.body)"
   ]
  },
  {
   "cell_type": "markdown",
   "metadata": {
    "colab_type": "text",
    "id": "JvYEOesKKcl2"
   },
   "source": [
    "Referring to the API documentation, explore the submissions object and print some interesting data:"
   ]
  },
  {
   "cell_type": "code",
   "execution_count": 12,
   "metadata": {
    "colab": {},
    "colab_type": "code",
    "id": "glEShYZbKcl3"
   },
   "outputs": [
    {
     "name": "stdout",
     "output_type": "stream",
     "text": [
      "You know when you hear a song for the first time and it gives you chills that's how much you like it? And then you have to go and listen to it on repeat for 3 days to try and get it out of your system? Yeah.\n",
      "Oh no. \n",
      "\n",
      "The new foster kitty is *very* smoochy and sensitive, he doesn't take being alone well. Like just this morning I woke up and he was asleep on my chest - he must have thumped at the sliding bedroom door all night to finally open it. I was typing up some notes and he felt left out, stomping all over the keyboard, I had to swaddle him like a baby so he'd stop. Then I did my skincare routine and he swatted at me the entire time until I finally patted him. He follows me room to room. \n",
      "\n",
      "He had to go to the vet this morning and my partner says he was just crying in the car the entire time. And then he *pooped from fear*. He's very toilet trained but he was so homesick and clingy he *pooped from fear*. My partner's car apparently just smells only of poo. I'm a horrible person for laughing.\n",
      "Strange to think that nothing in that picture remains except the station\n",
      "I'm Canadian but just spent two weeks in Melbourne for the AO. The Flinders Street Station was such a highlight for me, from a scenery standpoint. Especially how it was lit up at a night. I wish I had something like that near where I live!\n",
      "Melbourne’s baking scene is out of control these days\n",
      "At least they’re throwing them in the bin and not leaving them lying around\n",
      "It will all be repainted within a few days\n",
      "Protest against Culture Kings and the commercialised nature of the lane ?\n",
      "I always take the train that is there.  \n",
      "\n",
      "Chances are that the next train either doesn't turn up, is late or also doesn't complete its full journey.\n",
      "I like this meme.\n",
      "They didn't. They spam everyone closer to major delivery clogups such as Valentine's day / Christmas etc\n",
      "That link starts with bledre.com\n",
      "Doesn't even rhyme....\n",
      "Cruise to the wreckers? Hopefully.\n",
      "Why can't train stations these days be designed to protect people from the weather? This station entrance reminds me of North Melbourne station, where whenever the weather is bad you can be guaranteed you'll be soaked because the canopy above is too high and badly angled to be able to protect people. It's like architects think Melbourne isn't a city of changeable weather with a maritime or temperate oceanic climate on the edge of the Southern Ocean.\n",
      "To stop homeless people from camping out in trainstations\n",
      "I’ve seen these in the Asian grocer next to melb central all the time I love it\n",
      "You can cop these at Hong Kong supermarket Clayton too\n",
      "I don't know what happened but it's definitely the fault of the Taxi.\n",
      "It's alwaaaays taxi drivers trying to beat the red\n"
     ]
    }
   ],
   "source": [
    "submissions = reddit.subreddit('Melbourne').hot(limit=10)\n",
    "for submission in submissions:\n",
    "    top_level_comments = list(submission.comments)\n",
    "    all_comments = submission.comments.list()[:2]\n",
    "    for comment in all_comments:\n",
    "        print(comment.body)"
   ]
  },
  {
   "cell_type": "markdown",
   "metadata": {
    "colab_type": "text",
    "id": "Khno5kpWKcl5"
   },
   "source": [
    "#### Posting to Reddit"
   ]
  },
  {
   "cell_type": "markdown",
   "metadata": {
    "colab_type": "text",
    "id": "zjnyN1OfKcl6"
   },
   "source": [
    "To be able to post to your Reddit account (i.e. contribute submissions), you need to connect to the API with read/write privilege. This requires an *authorised instance*, which is obtained by including your Reddit user name and password in the connection request: "
   ]
  },
  {
   "cell_type": "code",
   "execution_count": 13,
   "metadata": {
    "colab": {},
    "colab_type": "code",
    "id": "ZXG7kouZKcl7"
   },
   "outputs": [
    {
     "name": "stdout",
     "output_type": "stream",
     "text": [
      "False\n"
     ]
    }
   ],
   "source": [
    "reddit = praw.Reddit(client_id='my client id',\n",
    "                     client_secret='my client secret',\n",
    "                     user_agent='my user agent',\n",
    "                     username='my username',\n",
    "                     password='my password')\n",
    "print(reddit.read_only)  # Output: False"
   ]
  },
  {
   "cell_type": "markdown",
   "metadata": {
    "colab_type": "text",
    "id": "nEjrsF9vKcl-"
   },
   "source": [
    "You could hide these last two credentials by adding them to your JSON file and then reading all five values at once."
   ]
  },
  {
   "cell_type": "markdown",
   "metadata": {
    "colab_type": "text",
    "id": "WqBG4xS5Kk3X"
   },
   "source": [
    ">\n",
    ">\n"
   ]
  },
  {
   "cell_type": "markdown",
   "metadata": {
    "colab_type": "text",
    "id": "EfPDz2gEKnRn"
   },
   "source": [
    ">\n",
    ">\n"
   ]
  },
  {
   "cell_type": "markdown",
   "metadata": {
    "colab_type": "text",
    "id": "5Uo-KnYhKoRA"
   },
   "source": [
    "\n",
    "\n",
    "---\n",
    "\n",
    "\n",
    "\n",
    "---\n",
    "\n",
    "\n",
    "\n",
    "> > > > > > > > > © 2019 Institute of Data\n",
    "\n",
    "\n",
    "---\n",
    "\n",
    "\n",
    "\n",
    "---\n",
    "\n",
    "\n",
    "\n"
   ]
  }
 ],
 "metadata": {
  "colab": {
   "collapsed_sections": [],
   "name": "DSIA Lab 2.2.3.ipynb",
   "provenance": []
  },
  "kernelspec": {
   "display_name": "Python 3",
   "language": "python",
   "name": "python3"
  },
  "language_info": {
   "codemirror_mode": {
    "name": "ipython",
    "version": 3
   },
   "file_extension": ".py",
   "mimetype": "text/x-python",
   "name": "python",
   "nbconvert_exporter": "python",
   "pygments_lexer": "ipython3",
   "version": "3.7.6"
  }
 },
 "nbformat": 4,
 "nbformat_minor": 1
}
