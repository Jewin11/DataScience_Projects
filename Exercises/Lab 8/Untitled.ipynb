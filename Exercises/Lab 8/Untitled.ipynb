{
 "cells": [
  {
   "cell_type": "code",
   "execution_count": null,
   "metadata": {},
   "outputs": [],
   "source": [
    "def data_pred(data,start_date,end_date,split_date):\n",
    "    training_period=customer_ds.loc[(customer_ds.InvoiceDate >= start_date) & (customer_ds.InvoiceDate <= split_date)]\n",
    "    testing_period=customer_ds.loc[(customer_ds.InvoiceDate > split_date) & (customer_ds.InvoiceDate <= end_date)]\n",
    "    data=pd.DataFrame(training_period['CustomerID'].unique())\n",
    "    data.columns = ['CustomerID']\n",
    "    #first purchase in testing period\n",
    "    testing_period_first_purchase = testing_period.groupby('CustomerID').InvoiceDate.min().reset_index()\n",
    "    testing_period_first_purchase.columns = ['CustomerID','MinPurchaseDate']\n",
    "\n",
    "    #Last purchase date in training period\n",
    "    training_period_last_purchase = training_period.groupby('CustomerID').InvoiceDate.max().reset_index()\n",
    "    training_period_last_purchase.columns = ['CustomerID','MaxPurchaseDate']\n",
    "    train_test_merge=pd.merge(training_period_last_purchase,testing_period_first_purchase,on='CustomerID',how='left')\n",
    "    #n+1 - n\n",
    "    train_test_merge['NextPurchaseDay_TestPeriod'] = (train_test_merge['MinPurchaseDate'] - train_test_merge['MaxPurchaseDate']).dt.days\n",
    "    data=pd.merge(data, train_test_merge[['CustomerID','NextPurchaseDay_TestPeriod']],on='CustomerID',how='left')\n",
    "    #NaN means they do not have a purchase date in that period . \n",
    "    #for analysis we could consider it as a large next purchase date and fill that number by 999\n",
    "    data = data.fillna(999)\n",
    "    df_Invoice_Day = training_period[['CustomerID','InvoiceDate']]\n",
    "    df_Invoice_Day['InvoiceDay'] = training_period['InvoiceDate'].dt.date\n",
    "    df_Invoice_Day = df_Invoice_Day.sort_values(['CustomerID','InvoiceDate'])\n",
    "    df_Invoice_Day = df_Invoice_Day.drop_duplicates(subset=['CustomerID','InvoiceDay'],keep='first')\n",
    "    #shifting last 3 purchase dates\n",
    "    df_Invoice_Day['n-1'] = df_Invoice_Day.groupby('CustomerID')['InvoiceDay'].shift(1)\n",
    "    df_Invoice_Day['n-2'] = df_Invoice_Day.groupby('CustomerID')['InvoiceDay'].shift(2)\n",
    "    df_Invoice_Day['n-3'] = df_Invoice_Day.groupby('CustomerID')['InvoiceDay'].shift(3)\n",
    "    df_Invoice_Day['DayDiff1'] = (df_Invoice_Day['InvoiceDay'] - df_Invoice_Day['n-1']).dt.days\n",
    "    df_Invoice_Day['DayDiff2'] = (df_Invoice_Day['n-1'] - df_Invoice_Day['n-2']).dt.days\n",
    "    df_Invoice_Day['DayDiff3'] = (df_Invoice_Day['n-2'] - df_Invoice_Day['n-3']).dt.days\n",
    "    day_order_last = df_Invoice_Day.drop_duplicates(subset=['CustomerID'],keep='last')\n",
    "    day_order_last = day_order_last.dropna()\n",
    "    data = pd.merge(data, day_order_last[['CustomerID','InvoiceDay','DayDiff1','DayDiff2','DayDiff3']], on='CustomerID')\n",
    "    data['Average']=(data['DayDiff1']+data['DayDiff2']+data['DayDiff3'])/3\n",
    "    data['NextPurchaseDayRange'] = 4\n",
    "    data.loc[data.NextPurchaseDay_TestPeriod<20,'NextPurchaseDayRange'] = 0\n",
    "    data.loc[data.NextPurchaseDay_TestPeriod<50,'NextPurchaseDayRange'] = 1\n",
    "    data.loc[data.NextPurchaseDay_TestPeriod<100,'NextPurchaseDayRange'] = 2\n",
    "    data.loc[data.NextPurchaseDay_TestPeriod<150,'NextPurchaseDayRange'] = 3\n",
    "    return data\n",
    " "
   ]
  }
 ],
 "metadata": {
  "kernelspec": {
   "display_name": "Python 3",
   "language": "python",
   "name": "python3"
  },
  "language_info": {
   "codemirror_mode": {
    "name": "ipython",
    "version": 3
   },
   "file_extension": ".py",
   "mimetype": "text/x-python",
   "name": "python",
   "nbconvert_exporter": "python",
   "pygments_lexer": "ipython3",
   "version": "3.7.4"
  }
 },
 "nbformat": 4,
 "nbformat_minor": 2
}
